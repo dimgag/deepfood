{
 "cells": [
  {
   "cell_type": "markdown",
   "metadata": {
    "_uuid": "41a6777d5e67dc652f57ce9681b4c44dc44152be",
    "id": "uNaVQGQ9tQRr"
   },
   "source": [
    "# **Multiclass Classification using Keras and TensorFlow on Food-101 Dataset**"
   ]
  },
  {
   "cell_type": "code",
   "execution_count": null,
   "metadata": {
    "_uuid": "dd82702380162e9587a0eae2f644dae2764f93c8",
    "id": "oNJr8de7yp3a"
   },
   "outputs": [],
   "source": [
    "import numpy as np\n",
    "import os\n",
    "import random\n",
    "import matplotlib.image as img\n",
    "import matplotlib.pyplot as plt\n",
    "%matplotlib inline\n",
    "from collections import defaultdict\n",
    "import collections\n",
    "from shutil import copy\n",
    "from shutil import copytree, rmtree\n",
    "import tensorflow as tf\n",
    "from tensorflow import keras\n",
    "import tensorflow.keras.backend as K\n",
    "from tensorflow.keras.models import load_model\n",
    "from tensorflow.keras.preprocessing import image\n",
    "from tensorflow.keras import regularizers\n",
    "from tensorflow.keras import models\n",
    "from tensorflow.keras.preprocessing.image import ImageDataGenerator\n",
    "from tensorflow.keras.callbacks import ModelCheckpoint, CSVLogger\n",
    "from tensorflow.keras.optimizers import SGD\n",
    "from tensorflow.keras.regularizers import l2\n",
    "from tensorflow.keras.applications.resnet_v2 import ResNet152V2\n",
    "from tensorflow.keras.applications.inception_v3 import InceptionV3\n",
    "from tensorflow.keras.applications.vgg16 import VGG16\n",
    "from tensorflow.keras.applications.xception import Xception\n",
    "from tensorflow.python.keras.applications.efficientnet import *\n",
    "\n",
    "from  tensorflow.keras.applications.efficientnet_v2 import EfficientNetV2S\n",
    "\n",
    "# from tensorflow.python.keras.applications.efficientnet_v2 import EfficientNetV2S, EfficientNetV2L\n",
    "from tensorflow.keras.models import Sequential, Model\n",
    "from tensorflow.keras.layers import Dense, Dropout, Activation, Flatten\n",
    "from tensorflow.keras.layers import Convolution2D, MaxPooling2D, ZeroPadding2D, GlobalAveragePooling2D, AveragePooling2D\n",
    "import cv2"
   ]
  },
  {
   "cell_type": "code",
   "execution_count": null,
   "metadata": {},
   "outputs": [],
   "source": [
    "# !pip install tf-nightly"
   ]
  },
  {
   "cell_type": "code",
   "execution_count": null,
   "metadata": {},
   "outputs": [],
   "source": [
    "# # Fix error with cv2\n",
    "# !apt-get update\n",
    "# !apt-get install ffmpeg libsm6 libxext6  -y"
   ]
  },
  {
   "cell_type": "markdown",
   "metadata": {
    "id": "3TEC_CRt_c_Z"
   },
   "source": [
    "### **Food-101 Data**"
   ]
  },
  {
   "cell_type": "code",
   "execution_count": null,
   "metadata": {
    "_uuid": "70f06e9a535b5f32ad9d927fc00e767dd72f17dd",
    "id": "JOZZbCDoP-Hy"
   },
   "outputs": [],
   "source": [
    "# Check if GPU is enabled\n",
    "print(tf.__version__)\n",
    "print(tf.test.gpu_device_name())"
   ]
  },
  {
   "cell_type": "code",
   "execution_count": null,
   "metadata": {
    "_uuid": "da6910e8bb064b76c17e07f0a2e0e23ebdefbbfa",
    "colab": {
     "base_uri": "https://localhost:8080/",
     "height": 1000
    },
    "executionInfo": {
     "elapsed": 12935,
     "status": "ok",
     "timestamp": 1656403029896,
     "user": {
      "displayName": "Dimitrios Gagatsis",
      "userId": "10589784086292039670"
     },
     "user_tz": -120
    },
    "id": "Jfif27Pr5KEn",
    "outputId": "1b5d2f2c-f4e2-4181-84f4-e2dc29697241"
   },
   "outputs": [],
   "source": [
    "# Visualize the data, showing one image per class from 101 classes\n",
    "rows = 17\n",
    "cols = 6\n",
    "fig, ax = plt.subplots(rows, cols, figsize=(25,25))\n",
    "fig.suptitle(\"Showing one random image from each class\", y=1.05, fontsize=24) # Adding  y=1.05, fontsize=24 helped me fix the suptitle overlapping with axes issue\n",
    "data_dir = \"/workspace/persistent/food-101/images\"\n",
    "foods_sorted = sorted(os.listdir(data_dir))\n",
    "food_id = 0\n",
    "for i in range(rows):\n",
    "  for j in range(cols):\n",
    "    try:\n",
    "      food_selected = foods_sorted[food_id] \n",
    "      food_id += 1\n",
    "    except:\n",
    "      break\n",
    "    if food_selected == '.DS_Store':\n",
    "        continue\n",
    "    food_selected_images = os.listdir(os.path.join(data_dir,food_selected)) # returns the list of all files present in each food category\n",
    "    food_selected_random = np.random.choice(food_selected_images) # picks one food item from the list as choice, takes a list and returns one random item\n",
    "    img = plt.imread(os.path.join(data_dir,food_selected, food_selected_random))\n",
    "    ax[i][j].imshow(img)\n",
    "    ax[i][j].set_title(food_selected, pad = 10)\n",
    "    \n",
    "plt.setp(ax, xticks=[],yticks=[])\n",
    "plt.tight_layout()\n",
    "# https://matplotlib.org/users/tight_layout_guide.html\n"
   ]
  },
  {
   "cell_type": "code",
   "execution_count": null,
   "metadata": {},
   "outputs": [],
   "source": [
    "%cd .."
   ]
  },
  {
   "cell_type": "code",
   "execution_count": null,
   "metadata": {},
   "outputs": [],
   "source": [
    "%pwd"
   ]
  },
  {
   "cell_type": "code",
   "execution_count": null,
   "metadata": {},
   "outputs": [],
   "source": [
    "%cd food-101"
   ]
  },
  {
   "cell_type": "code",
   "execution_count": null,
   "metadata": {},
   "outputs": [],
   "source": [
    "# Check how many files are in the train folder\n",
    "print(\"Total number of samples in train folder\")\n",
    "!find train -type f | wc -l\n",
    "print(\"\\nTotal number of samples in test folder\")\n",
    "!find test -type f | wc -l"
   ]
  },
  {
   "cell_type": "code",
   "execution_count": null,
   "metadata": {
    "_uuid": "27bf6dfb6b5c0a01efaad5de5ac90301663e84ca",
    "id": "b9i8vGHYKO-g"
   },
   "outputs": [],
   "source": [
    "# List of all 101 types of foods(sorted alphabetically)\n",
    "# del foods_sorted[0] # remove .DS_Store from the list\n",
    "\n",
    "# foods_sorted"
   ]
  },
  {
   "cell_type": "code",
   "execution_count": null,
   "metadata": {
    "_uuid": "9560f0dd98c3decf8fceed05072def71efc2462e",
    "colab": {
     "base_uri": "https://localhost:8080/"
    },
    "executionInfo": {
     "elapsed": 6,
     "status": "ok",
     "timestamp": 1656403126313,
     "user": {
      "displayName": "Dimitrios Gagatsis",
      "userId": "10589784086292039670"
     },
     "user_tz": -120
    },
    "id": "LBLq_gYD5LOm",
    "outputId": "f18872eb-b497-4f7a-f0ba-869f2cf99d98"
   },
   "outputs": [],
   "source": [
    "print(\"Total number of samples in test folder\")\n",
    "!find train -type d -or -type f -printf '.' | wc -c\n",
    "print(\"Total number of samples in test folder\")\n",
    "!find test -type d -or -type f -printf '.' | wc -c"
   ]
  },
  {
   "cell_type": "markdown",
   "metadata": {
    "id": "3uBYnTC8I4mw"
   },
   "source": [
    "### Data Augmentation and Acc/Loss Visualization"
   ]
  },
  {
   "cell_type": "code",
   "execution_count": null,
   "metadata": {
    "colab": {
     "base_uri": "https://localhost:8080/"
    },
    "executionInfo": {
     "elapsed": 536,
     "status": "ok",
     "timestamp": 1656403126847,
     "user": {
      "displayName": "Dimitrios Gagatsis",
      "userId": "10589784086292039670"
     },
     "user_tz": -120
    },
    "id": "HC3eXlRJHMI7",
    "outputId": "15670562-8797-495c-fe51-d31a71a49d88"
   },
   "outputs": [],
   "source": [
    "# K.clear_session()\n",
    "n_classes = 102\n",
    "img_width, img_height = 299, 299\n",
    "train_data_dir = 'train'\n",
    "validation_data_dir = 'test'\n",
    "nb_train_samples = 75750\n",
    "nb_validation_samples = 25250\n",
    "batch_size = 16\n",
    "\n",
    "train_datagen = ImageDataGenerator(\n",
    "    rescale=1. / 255,\n",
    "    shear_range=0.2,\n",
    "    zoom_range=0.2,\n",
    "    horizontal_flip=True)\n",
    "\n",
    "test_datagen = ImageDataGenerator(rescale=1. / 255)\n",
    "\n",
    "train_generator = train_datagen.flow_from_directory(\n",
    "    train_data_dir,\n",
    "    target_size=(img_height, img_width),\n",
    "    batch_size=batch_size,\n",
    "    class_mode='categorical')\n",
    "\n",
    "validation_generator = test_datagen.flow_from_directory(\n",
    "    validation_data_dir,\n",
    "    target_size=(img_height, img_width),\n",
    "    batch_size=batch_size,\n",
    "    class_mode='categorical')\n",
    "\n"
   ]
  },
  {
   "cell_type": "code",
   "execution_count": null,
   "metadata": {
    "id": "EpyszTY3iyyI"
   },
   "outputs": [],
   "source": [
    "# Plot Accuracy and Loss of the model\n",
    "def plot_accuracy(history,title):\n",
    "    plt.title(title)\n",
    "    plt.plot(history.history['accuracy'])\n",
    "    plt.plot(history.history['val_accuracy'])\n",
    "    plt.ylabel('accuracy')\n",
    "    plt.xlabel('epoch')\n",
    "    plt.legend(['train_accuracy', 'validation_accuracy'], loc='best')\n",
    "    plt.show()\n",
    "\n",
    "def plot_loss(history,title):\n",
    "    plt.title(title)\n",
    "    plt.plot(history.history['loss'])\n",
    "    plt.plot(history.history['val_loss'])\n",
    "    plt.ylabel('loss')\n",
    "    plt.xlabel('epoch')\n",
    "    plt.legend(['train_loss', 'validation_loss'], loc='best')\n",
    "    plt.show()\n",
    "\n",
    "def plot_Acc_and_Loss(history,title):\n",
    "    # plot model accuracy\n",
    "    plt.figure(figsize=(16,8))\n",
    "    plt.subplot(1,2,1)\n",
    "    plt.title(title)\n",
    "    plt.plot(history.history['accuracy'])\n",
    "    plt.plot(history.history['val_accuracy'])\n",
    "    plt.ylabel('accuracy')\n",
    "    plt.xlabel('epoch')\n",
    "    plt.legend(['train_accuracy', 'validation_accuracy'], loc='best')\n",
    "    # plot model loss\n",
    "    plt.subplot(1,2,2)\n",
    "    plt.title(title)\n",
    "    plt.plot(history.history['loss'])\n",
    "    plt.plot(history.history['val_loss'])\n",
    "    plt.ylabel('loss')\n",
    "    plt.xlabel('epoch')\n",
    "    plt.legend(['train_loss', 'validation_loss'], loc='best')\n",
    "    plt.show()"
   ]
  },
  {
   "cell_type": "markdown",
   "metadata": {
    "id": "s4DUFALj95De"
   },
   "source": [
    "### MODEL1: ResNet152V2"
   ]
  },
  {
   "cell_type": "code",
   "execution_count": null,
   "metadata": {
    "colab": {
     "base_uri": "https://localhost:8080/"
    },
    "executionInfo": {
     "elapsed": 7316,
     "status": "ok",
     "timestamp": 1656321527594,
     "user": {
      "displayName": "Dimitrios Gagatsis",
      "userId": "10589784086292039670"
     },
     "user_tz": -120
    },
    "id": "kMOu4KlzHL9D",
    "outputId": "6866e32c-55d6-4e8f-e678-8129c990b107"
   },
   "outputs": [],
   "source": [
    "# Get pre-trained ResNet152V2 on ImageNet without top\n",
    "resnet = tf.keras.applications.ResNet152V2(\n",
    "    include_top=False,\n",
    "    weights=None,\n",
    "    input_tensor=None,\n",
    "    input_shape=None,\n",
    "    pooling=None,\n",
    "    classes=102,\n",
    "    classifier_activation=\"softmax\")\n",
    "\n",
    "# Freeze the base model\n",
    "resnet.trainable = False\n",
    "\n",
    "x = resnet.output\n",
    "x = GlobalAveragePooling2D()(x)\n",
    "x = Dense(128,activation='relu')(x)\n",
    "x = Dropout(0.2)(x)\n",
    "predictions = Dense(102,kernel_regularizer=regularizers.l2(0.005), activation='softmax')(x)\n",
    "model = Model(inputs=resnet.input, outputs=predictions)"
   ]
  },
  {
   "cell_type": "code",
   "execution_count": null,
   "metadata": {
    "colab": {
     "base_uri": "https://localhost:8080/"
    },
    "executionInfo": {
     "elapsed": 3888726,
     "status": "ok",
     "timestamp": 1656325452704,
     "user": {
      "displayName": "Dimitrios Gagatsis",
      "userId": "10589784086292039670"
     },
     "user_tz": -120
    },
    "id": "0Dp9glLNHLtO",
    "outputId": "98dd9074-85fd-4eaa-de76-155f2aaad302"
   },
   "outputs": [],
   "source": [
    "# Train the model\n",
    "# K.clear_session()\n",
    "model.trainable = True\n",
    "model.compile(optimizer=SGD(lr=0.0001, momentum=0.9), loss='categorical_crossentropy', metrics=['accuracy'])\n",
    "checkpointer = ModelCheckpoint(filepath='ResNet152V2_food101.hdf5', verbose=1, save_best_only=True)\n",
    "csv_logger = CSVLogger('history_ResNet152V2.log')\n",
    "\n",
    "history = model.fit_generator(train_generator,\n",
    "                    steps_per_epoch = nb_train_samples // batch_size,\n",
    "                    validation_data=validation_generator,\n",
    "                    validation_steps=nb_validation_samples // batch_size,\n",
    "                    epochs=30,\n",
    "                    verbose=1,\n",
    "                    callbacks=[csv_logger, checkpointer])\n",
    "model.save('ResNet152V2_food101.hdf5')"
   ]
  },
  {
   "cell_type": "code",
   "execution_count": null,
   "metadata": {
    "colab": {
     "base_uri": "https://localhost:8080/"
    },
    "executionInfo": {
     "elapsed": 70905,
     "status": "ok",
     "timestamp": 1656328374775,
     "user": {
      "displayName": "Dimitrios Gagatsis",
      "userId": "10589784086292039670"
     },
     "user_tz": -120
    },
    "id": "KFeKe9odeGdB",
    "outputId": "fa7ce87d-b22b-4e92-f5b9-f0071cd1285b"
   },
   "outputs": [],
   "source": [
    "# # ResNet152V2 Evaluation\n",
    "# train_loss, train_acc = model.evaluate(train_generator)\n",
    "# validation_loss, test_acc = model.evaluate(validation_generator)\n",
    "# print('Train Acc: %.3f, Val Acc: %.3f' % (train_acc, test_acc))"
   ]
  },
  {
   "cell_type": "code",
   "execution_count": null,
   "metadata": {
    "colab": {
     "base_uri": "https://localhost:8080/"
    },
    "executionInfo": {
     "elapsed": 696,
     "status": "ok",
     "timestamp": 1656328150385,
     "user": {
      "displayName": "Dimitrios Gagatsis",
      "userId": "10589784086292039670"
     },
     "user_tz": -120
    },
    "id": "j3JAgrULNIjE",
    "outputId": "4172b69a-e852-4838-a9c5-18e905ac7774"
   },
   "outputs": [],
   "source": [
    "class_map_3 = train_generator.class_indices\n",
    "class_map_3"
   ]
  },
  {
   "cell_type": "code",
   "execution_count": null,
   "metadata": {
    "colab": {
     "base_uri": "https://localhost:8080/",
     "height": 513
    },
    "executionInfo": {
     "elapsed": 616,
     "status": "ok",
     "timestamp": 1656328164104,
     "user": {
      "displayName": "Dimitrios Gagatsis",
      "userId": "10589784086292039670"
     },
     "user_tz": -120
    },
    "id": "rikotGQuL0oa",
    "outputId": "83154cdc-4e5b-4856-92b5-6f8a6322b87b"
   },
   "outputs": [],
   "source": [
    "plot_Acc_and_Loss(history, 'FOOD101-ResNet152V2')"
   ]
  },
  {
   "cell_type": "markdown",
   "metadata": {
    "id": "phIo8-jMHPdk"
   },
   "source": [
    "### MODEL 2: Inceptionv3"
   ]
  },
  {
   "cell_type": "code",
   "execution_count": null,
   "metadata": {
    "_uuid": "8d08ece78ab731f7ac8a9b4b581e42e29093bcca",
    "colab": {
     "base_uri": "https://localhost:8080/"
    },
    "executionInfo": {
     "elapsed": 7338,
     "status": "ok",
     "timestamp": 1656155252076,
     "user": {
      "displayName": "Dimitrios Gagatsis",
      "userId": "10589784086292039670"
     },
     "user_tz": -120
    },
    "id": "JBs1U7hZkp1U",
    "outputId": "bc75117c-9c62-4171-ad84-b87a52f70412"
   },
   "outputs": [],
   "source": [
    "inception = InceptionV3(weights=None, include_top=False)\n",
    "\n",
    "inception.trainable = False\n",
    "\n",
    "x = inception.output\n",
    "x = GlobalAveragePooling2D()(x)\n",
    "x = Dense(128,activation='relu')(x)\n",
    "x = Dropout(0.2)(x)\n",
    "\n",
    "predictions = Dense(102,kernel_regularizer=regularizers.l2(0.005), activation='softmax')(x)\n",
    "\n",
    "model = Model(inputs=inception.input, outputs=predictions)"
   ]
  },
  {
   "cell_type": "code",
   "execution_count": null,
   "metadata": {
    "colab": {
     "base_uri": "https://localhost:8080/"
    },
    "executionInfo": {
     "elapsed": 2168380,
     "status": "ok",
     "timestamp": 1656157423040,
     "user": {
      "displayName": "Dimitrios Gagatsis",
      "userId": "10589784086292039670"
     },
     "user_tz": -120
    },
    "id": "TdZfeMNBQqBs",
    "outputId": "fb11b111-a166-40ed-a4c9-6fab5acd824d"
   },
   "outputs": [],
   "source": [
    "model.trainable = True\n",
    "model.compile(optimizer=SGD(lr=0.0001, momentum=0.9), loss='categorical_crossentropy', metrics=['accuracy'])\n",
    "checkpointer = ModelCheckpoint(filepath='InceptionV3_food101.hdf5', verbose=1, save_best_only=True)\n",
    "csv_logger = CSVLogger('history_InceptionV3.log')\n",
    "\n",
    "history = model.fit_generator(train_generator,\n",
    "                    steps_per_epoch = nb_train_samples // batch_size,\n",
    "                    validation_data=validation_generator,\n",
    "                    validation_steps=nb_validation_samples // batch_size,\n",
    "                    epochs=30,\n",
    "                    verbose=1,\n",
    "                    callbacks=[csv_logger, checkpointer])\n",
    "\n",
    "model.save('InceptionV3_food101.hdf5')\n"
   ]
  },
  {
   "cell_type": "code",
   "execution_count": null,
   "metadata": {
    "_uuid": "558180f917fba895b9792328b234421c097f1ba0",
    "colab": {
     "base_uri": "https://localhost:8080/"
    },
    "executionInfo": {
     "elapsed": 352,
     "status": "ok",
     "timestamp": 1656157735793,
     "user": {
      "displayName": "Dimitrios Gagatsis",
      "userId": "10589784086292039670"
     },
     "user_tz": -120
    },
    "id": "VIKMZNCAyp3l",
    "outputId": "bacb88fb-2124-4e6d-d55a-46b35bb76b99"
   },
   "outputs": [],
   "source": [
    "class_map_3 = train_generator.class_indices\n",
    "class_map_3"
   ]
  },
  {
   "cell_type": "code",
   "execution_count": null,
   "metadata": {
    "_uuid": "a73c830d2fbd841c9541628061313e4fd8506a51",
    "colab": {
     "base_uri": "https://localhost:8080/"
    },
    "executionInfo": {
     "elapsed": 741,
     "status": "ok",
     "timestamp": 1656157754162,
     "user": {
      "displayName": "Dimitrios Gagatsis",
      "userId": "10589784086292039670"
     },
     "user_tz": -120
    },
    "id": "w-h17B_Zyp3m",
    "outputId": "bedc9eea-6f32-4627-8c3a-a73c4e649a65"
   },
   "outputs": [],
   "source": [
    "# plot_accuracy(history,'FOOD101-Inceptionv3')\n",
    "# plot_loss(history,'FOOD101-Inceptionv3')\n",
    "plot_Acc_and_Loss(history,'FOOD101-Inceptionv3')"
   ]
  },
  {
   "cell_type": "code",
   "execution_count": null,
   "metadata": {
    "id": "B42WWsEWCxxb"
   },
   "outputs": [],
   "source": [
    "# # Evaluate model\n",
    "# score = model.evaluate(train_generator, validation_generator, verbose=0)\n",
    "# print(f'Test loss: {score[0]} / Test accuracy: {score[1]}')"
   ]
  },
  {
   "cell_type": "markdown",
   "metadata": {
    "id": "EBwS-eRXS3EK"
   },
   "source": [
    "### MODEL 3: VGG16"
   ]
  },
  {
   "cell_type": "code",
   "execution_count": null,
   "metadata": {},
   "outputs": [],
   "source": [
    "!TF_GPU_ALLOCATOR=cuda_malloc_async"
   ]
  },
  {
   "cell_type": "code",
   "execution_count": null,
   "metadata": {
    "colab": {
     "base_uri": "https://localhost:8080/"
    },
    "executionInfo": {
     "elapsed": 1198,
     "status": "ok",
     "timestamp": 1656158006755,
     "user": {
      "displayName": "Dimitrios Gagatsis",
      "userId": "10589784086292039670"
     },
     "user_tz": -120
    },
    "id": "CiJQzFeVfH7J",
    "outputId": "3dbe6fb2-8f06-41fb-fb95-fce69da058cf"
   },
   "outputs": [],
   "source": [
    "VGG = VGG16(weights=None, include_top=False)\n",
    "VGG.trainable = False\n",
    "\n",
    "x = VGG.output\n",
    "x = GlobalAveragePooling2D()(x)\n",
    "x = Dense(128,activation='relu')(x)\n",
    "x = Dropout(0.2)(x)\n",
    "predictions = Dense(102,kernel_regularizer=regularizers.l2(0.005), activation='softmax')(x)\n",
    "model = Model(inputs=VGG.input, outputs=predictions)"
   ]
  },
  {
   "cell_type": "code",
   "execution_count": null,
   "metadata": {
    "colab": {
     "base_uri": "https://localhost:8080/"
    },
    "executionInfo": {
     "elapsed": 536842,
     "status": "ok",
     "timestamp": 1656160453564,
     "user": {
      "displayName": "Dimitrios Gagatsis",
      "userId": "10589784086292039670"
     },
     "user_tz": -120
    },
    "id": "UNVooDCefH0A",
    "outputId": "31e98e4d-6c6f-4b04-e745-f43a8ecfea07"
   },
   "outputs": [],
   "source": [
    "model.trainable = True\n",
    "model.compile(optimizer=SGD(lr=0.0001, momentum=0.9), loss='categorical_crossentropy', metrics=['accuracy'])\n",
    "checkpointer = ModelCheckpoint(filepath='vgg16_food101.hdf5', verbose=1, save_best_only=True)\n",
    "csv_logger = CSVLogger('history_vgg16.log')\n",
    "\n",
    "history = model.fit_generator(train_generator,\n",
    "                    steps_per_epoch = nb_train_samples // batch_size,\n",
    "                    validation_data=validation_generator,\n",
    "                    validation_steps=nb_validation_samples // batch_size,\n",
    "                    epochs=30,\n",
    "                    verbose=1,\n",
    "                    callbacks=[csv_logger, checkpointer])\n",
    "\n",
    "model.save('vgg16_food101.hdf5')"
   ]
  },
  {
   "cell_type": "code",
   "execution_count": null,
   "metadata": {
    "colab": {
     "base_uri": "https://localhost:8080/"
    },
    "executionInfo": {
     "elapsed": 338,
     "status": "ok",
     "timestamp": 1656160819779,
     "user": {
      "displayName": "Dimitrios Gagatsis",
      "userId": "10589784086292039670"
     },
     "user_tz": -120
    },
    "id": "f22-ouNHfHmX",
    "outputId": "8fdf39d0-18ee-46b8-f0b5-22b4c99588c5"
   },
   "outputs": [],
   "source": [
    "class_map_3 = train_generator.class_indices\n",
    "class_map_3"
   ]
  },
  {
   "cell_type": "code",
   "execution_count": null,
   "metadata": {
    "colab": {
     "base_uri": "https://localhost:8080/"
    },
    "executionInfo": {
     "elapsed": 1031,
     "status": "ok",
     "timestamp": 1656160843683,
     "user": {
      "displayName": "Dimitrios Gagatsis",
      "userId": "10589784086292039670"
     },
     "user_tz": -120
    },
    "id": "39HhKagzgFLT",
    "outputId": "5a4c309c-228b-4565-d4bf-cc3bdb9658d7"
   },
   "outputs": [],
   "source": [
    "# plot_accuracy(history,'FOOD101-VGG16')\n",
    "# plot_loss(history,'FOOD101-VGG16')\n",
    "plot_Acc_and_Loss(history, 'FOOD101-VGG16')"
   ]
  },
  {
   "cell_type": "code",
   "execution_count": null,
   "metadata": {
    "id": "DW_y5KavBKZ5"
   },
   "outputs": [],
   "source": [
    "# # Evaluate model\n",
    "# score = model.evaluate(train_generator, validation_generator, verbose=0)\n",
    "# print(f'Test loss: {score[0]} / Test accuracy: {score[1]}') "
   ]
  },
  {
   "cell_type": "markdown",
   "metadata": {
    "id": "D0piSCKpS_X_"
   },
   "source": [
    "### MODEL 4: Xception\n"
   ]
  },
  {
   "cell_type": "code",
   "execution_count": null,
   "metadata": {
    "id": "K9OLOEJ-lBu0"
   },
   "outputs": [],
   "source": [
    "xception = Xception(weights='imagenet', include_top=False)\n",
    "xception.trainable = False\n",
    "\n",
    "x = xception.output\n",
    "x = GlobalAveragePooling2D()(x)\n",
    "x = Dense(128,activation='relu')(x)\n",
    "x = Dropout(0.2)(x)\n",
    "\n",
    "predictions = Dense(3,kernel_regularizer=regularizers.l2(0.005), activation='softmax')(x)\n",
    "\n",
    "model = Model(inputs=xception.input, outputs=predictions)"
   ]
  },
  {
   "cell_type": "code",
   "execution_count": null,
   "metadata": {
    "colab": {
     "base_uri": "https://localhost:8080/"
    },
    "executionInfo": {
     "elapsed": 5846519,
     "status": "ok",
     "timestamp": 1656413078903,
     "user": {
      "displayName": "Dimitrios Gagatsis",
      "userId": "10589784086292039670"
     },
     "user_tz": -120
    },
    "id": "Lc_UrO1GlBsL",
    "outputId": "8607d531-3571-460f-8833-a8fb6487733c"
   },
   "outputs": [],
   "source": [
    "model.trainable = True\n",
    "model.compile(optimizer=SGD(lr=0.0001, momentum=0.9), loss='categorical_crossentropy', metrics=['accuracy'])\n",
    "checkpointer = ModelCheckpoint(filepath='xception_food101.hdf5', verbose=1, save_best_only=True)\n",
    "csv_logger = CSVLogger('history_xception.log')\n",
    "\n",
    "history = model.fit_generator(train_generator,\n",
    "                    steps_per_epoch = nb_train_samples // batch_size,\n",
    "                    validation_data=validation_generator,\n",
    "                    validation_steps=nb_validation_samples // batch_size,\n",
    "                    epochs=30,\n",
    "                    verbose=1,\n",
    "                    callbacks=[csv_logger, checkpointer])\n",
    "\n",
    "model.save('xception_food101.hdf5')"
   ]
  },
  {
   "cell_type": "code",
   "execution_count": null,
   "metadata": {
    "colab": {
     "base_uri": "https://localhost:8080/"
    },
    "executionInfo": {
     "elapsed": 184,
     "status": "ok",
     "timestamp": 1656413085886,
     "user": {
      "displayName": "Dimitrios Gagatsis",
      "userId": "10589784086292039670"
     },
     "user_tz": -120
    },
    "id": "_hyt-kbClBlB",
    "outputId": "265f85c2-cfe2-4765-a32e-3ae2fcff7b66"
   },
   "outputs": [],
   "source": [
    "class_map_3 = train_generator.class_indices\n",
    "class_map_3"
   ]
  },
  {
   "cell_type": "code",
   "execution_count": null,
   "metadata": {
    "colab": {
     "base_uri": "https://localhost:8080/",
     "height": 513
    },
    "executionInfo": {
     "elapsed": 509,
     "status": "ok",
     "timestamp": 1656413087597,
     "user": {
      "displayName": "Dimitrios Gagatsis",
      "userId": "10589784086292039670"
     },
     "user_tz": -120
    },
    "id": "erV2RX4vlBiu",
    "outputId": "e347a335-36f2-4a1d-ef70-62e6447fbcf7"
   },
   "outputs": [],
   "source": [
    "# plot_accuracy(history,'FOOD101-Xception')\n",
    "# plot_loss(history,'FOOD101-Xception')\n",
    "plot_Acc_and_Loss(history, 'FOOD101-Xception')"
   ]
  },
  {
   "cell_type": "code",
   "execution_count": null,
   "metadata": {
    "colab": {
     "base_uri": "https://localhost:8080/"
    },
    "executionInfo": {
     "elapsed": 59999,
     "status": "ok",
     "timestamp": 1656413165017,
     "user": {
      "displayName": "Dimitrios Gagatsis",
      "userId": "10589784086292039670"
     },
     "user_tz": -120
    },
    "id": "zXbQPvIKfj3O",
    "outputId": "255b68a6-8789-41dd-d94d-2248971b2984"
   },
   "outputs": [],
   "source": [
    "# model = load_model('xception_3class.hdf5')\n",
    "# train_loss, train_acc = model.evaluate(train_generator)\n",
    "# validation_loss, test_acc = model.evaluate(validation_generator)\n",
    "# print('Train Acc: %.3f, Val Acc: %.3f' % (train_acc, test_acc))"
   ]
  },
  {
   "cell_type": "markdown",
   "metadata": {
    "id": "1XCSfslOlmEU"
   },
   "source": [
    "### MODEL 5: EfficientNetV2L"
   ]
  },
  {
   "cell_type": "code",
   "execution_count": null,
   "metadata": {
    "colab": {
     "base_uri": "https://localhost:8080/"
    },
    "executionInfo": {
     "elapsed": 4106,
     "status": "ok",
     "timestamp": 1656312944323,
     "user": {
      "displayName": "Dimitrios Gagatsis",
      "userId": "10589784086292039670"
     },
     "user_tz": -120
    },
    "id": "SPiyM5vGlBgp",
    "outputId": "1a849ba5-4c91-4f1b-fbe4-24037cc56164"
   },
   "outputs": [],
   "source": [
    "EfficientNetV2S = EfficientNetV2S(weights='imagenet', include_top=False)\n",
    "EfficientNetV2S.trainable = False\n",
    "\n",
    "x = EfficientNetV2S.output\n",
    "x = GlobalAveragePooling2D()(x)\n",
    "x = Dense(128,activation='relu')(x)\n",
    "x = Dropout(0.2)(x)\n",
    "\n",
    "predictions = Dense(101,kernel_regularizer=regularizers.l2(0.005), activation='softmax')(x)\n",
    "\n",
    "model = Model(inputs=EfficientNetV2S.input, outputs=predictions)"
   ]
  },
  {
   "cell_type": "code",
   "execution_count": null,
   "metadata": {
    "colab": {
     "base_uri": "https://localhost:8080/"
    },
    "executionInfo": {
     "elapsed": 2518253,
     "status": "ok",
     "timestamp": 1656315462792,
     "user": {
      "displayName": "Dimitrios Gagatsis",
      "userId": "10589784086292039670"
     },
     "user_tz": -120
    },
    "id": "P2MrNDYulBdp",
    "outputId": "c8e37eb7-b5ba-4eba-c1d3-8644e740b9a8"
   },
   "outputs": [],
   "source": [
    "model.trainable = True\n",
    "model.compile(optimizer=SGD(lr=0.0001, momentum=0.9), loss='categorical_crossentropy', metrics=['accuracy'])\n",
    "checkpointer = ModelCheckpoint(filepath='EfficientNetV2S_food101.hdf5', verbose=1, save_best_only=True)\n",
    "csv_logger = CSVLogger('history_EfficientNetV2S.log')\n",
    "\n",
    "history = model.fit_generator(train_generator,\n",
    "                    steps_per_epoch = nb_train_samples // batch_size,\n",
    "                    validation_data=validation_generator,\n",
    "                    validation_steps=nb_validation_samples // batch_size,\n",
    "                    epochs=100,\n",
    "                    verbose=1,\n",
    "                    callbacks=[csv_logger, checkpointer])\n",
    "\n",
    "model.save('EfficientNetV2S_food101.hdf5')"
   ]
  },
  {
   "cell_type": "code",
   "execution_count": null,
   "metadata": {
    "colab": {
     "base_uri": "https://localhost:8080/"
    },
    "executionInfo": {
     "elapsed": 212,
     "status": "ok",
     "timestamp": 1656315465578,
     "user": {
      "displayName": "Dimitrios Gagatsis",
      "userId": "10589784086292039670"
     },
     "user_tz": -120
    },
    "id": "D_QzCp_VlBaf",
    "outputId": "cdde1f51-3d22-41cc-a605-8eb7848c553e"
   },
   "outputs": [],
   "source": [
    "class_map_3 = train_generator.class_indices\n",
    "class_map_3"
   ]
  },
  {
   "cell_type": "code",
   "execution_count": null,
   "metadata": {
    "colab": {
     "base_uri": "https://localhost:8080/",
     "height": 513
    },
    "executionInfo": {
     "elapsed": 787,
     "status": "ok",
     "timestamp": 1656315486818,
     "user": {
      "displayName": "Dimitrios Gagatsis",
      "userId": "10589784086292039670"
     },
     "user_tz": -120
    },
    "id": "_GNfyxjRlBRr",
    "outputId": "823ced76-d423-4dd7-d98b-6c531d87a98c"
   },
   "outputs": [],
   "source": [
    "# plot_accuracy(history,'FOOD101-EfficientNetV2S')\n",
    "# plot_loss(history,'FOOD101-EfficientNetV2S')\n",
    "plot_Acc_and_Loss(history,'FOOD101-EfficientNetV2S')"
   ]
  }
 ],
 "metadata": {
  "accelerator": "GPU",
  "colab": {
   "collapsed_sections": [
    "3uBYnTC8I4mw",
    "s4DUFALj95De",
    "phIo8-jMHPdk",
    "EBwS-eRXS3EK",
    "1XCSfslOlmEU"
   ],
   "name": "Food101_TestModels.ipynb",
   "provenance": [],
   "toc_visible": true
  },
  "gpuClass": "standard",
  "kernelspec": {
   "display_name": "Python 3.9.12 ('base')",
   "language": "python",
   "name": "python3"
  },
  "language_info": {
   "codemirror_mode": {
    "name": "ipython",
    "version": 3
   },
   "file_extension": ".py",
   "mimetype": "text/x-python",
   "name": "python",
   "nbconvert_exporter": "python",
   "pygments_lexer": "ipython3",
   "version": "3.9.12"
  },
  "vscode": {
   "interpreter": {
    "hash": "3067ead486e059ec00ffe7555bdb889e6e264a24dc711bf108106cc7baee8d5d"
   }
  }
 },
 "nbformat": 4,
 "nbformat_minor": 4
}
