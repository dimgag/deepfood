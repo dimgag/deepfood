{
 "cells": [
  {
   "cell_type": "markdown",
   "metadata": {
    "_uuid": "41a6777d5e67dc652f57ce9681b4c44dc44152be",
    "id": "uNaVQGQ9tQRr"
   },
   "source": [
    "# **Multiclass Classification using Keras and TensorFlow on Food-101 Dataset**"
   ]
  },
  {
   "cell_type": "code",
   "execution_count": 4,
   "metadata": {
    "_uuid": "dd82702380162e9587a0eae2f644dae2764f93c8",
    "id": "oNJr8de7yp3a"
   },
   "outputs": [],
   "source": [
    "import numpy as np\n",
    "import os\n",
    "import random\n",
    "import matplotlib.image as img\n",
    "import matplotlib.pyplot as plt\n",
    "%matplotlib inline\n",
    "from collections import defaultdict\n",
    "import collections\n",
    "from shutil import copy\n",
    "from shutil import copytree, rmtree\n",
    "import tensorflow as tf\n",
    "from tensorflow import keras\n",
    "import tensorflow.keras.backend as K\n",
    "from tensorflow.keras.models import load_model\n",
    "from tensorflow.keras.preprocessing import image\n",
    "from tensorflow.keras import regularizers\n",
    "from tensorflow.keras import models\n",
    "from tensorflow.keras.preprocessing.image import ImageDataGenerator\n",
    "from tensorflow.keras.callbacks import ModelCheckpoint, CSVLogger\n",
    "from tensorflow.keras.optimizers import SGD\n",
    "from tensorflow.keras.regularizers import l2\n",
    "from tensorflow.keras.applications.resnet_v2 import ResNet152V2\n",
    "from tensorflow.keras.applications.inception_v3 import InceptionV3\n",
    "from tensorflow.keras.applications.vgg16 import VGG16\n",
    "from tensorflow.keras.applications.xception import Xception\n",
    "from tensorflow.python.keras.applications.efficientnet import *\n",
    "# from tensorflow.python.keras.applications.efficientnet_v2 import EfficientNetV2S, EfficientNetV2L\n",
    "from tensorflow.keras.models import Sequential, Model\n",
    "from tensorflow.keras.layers import Dense, Dropout, Activation, Flatten\n",
    "from tensorflow.keras.layers import Convolution2D, MaxPooling2D, ZeroPadding2D, GlobalAveragePooling2D, AveragePooling2D\n",
    "import cv2"
   ]
  },
  {
   "cell_type": "code",
   "execution_count": 3,
   "metadata": {},
   "outputs": [
    {
     "name": "stdout",
     "output_type": "stream",
     "text": [
      "Hit:1 http://archive.ubuntu.com/ubuntu focal InRelease\n",
      "Get:2 http://archive.ubuntu.com/ubuntu focal-updates InRelease [114 kB]\n",
      "Get:3 http://archive.ubuntu.com/ubuntu focal-backports InRelease [108 kB]      \n",
      "Get:4 http://security.ubuntu.com/ubuntu focal-security InRelease [114 kB]\n",
      "Get:5 http://archive.ubuntu.com/ubuntu focal-updates/restricted amd64 Packages [1464 kB]\n",
      "Get:6 http://security.ubuntu.com/ubuntu focal-security/main amd64 Packages [1989 kB]\n",
      "Get:7 http://archive.ubuntu.com/ubuntu focal-updates/universe amd64 Packages [1160 kB]\n",
      "Get:8 http://archive.ubuntu.com/ubuntu focal-updates/main amd64 Packages [2434 kB]\n",
      "Get:9 http://archive.ubuntu.com/ubuntu focal-updates/multiverse amd64 Packages [30.2 kB]\n",
      "Get:10 http://archive.ubuntu.com/ubuntu focal-backports/main amd64 Packages [54.2 kB]\n",
      "Get:11 http://archive.ubuntu.com/ubuntu focal-backports/universe amd64 Packages [27.1 kB]\n",
      "Get:12 http://security.ubuntu.com/ubuntu focal-security/multiverse amd64 Packages [27.5 kB]\n",
      "Get:13 http://security.ubuntu.com/ubuntu focal-security/restricted amd64 Packages [1351 kB]\n",
      "Get:14 http://security.ubuntu.com/ubuntu focal-security/universe amd64 Packages [882 kB]\n",
      "Fetched 9756 kB in 2s (5517 kB/s)                          \n",
      "Reading package lists... Done\n",
      "Reading package lists... Done\n",
      "Building dependency tree       \n",
      "Reading state information... Done\n",
      "The following additional packages will be installed:\n",
      "  dbus fontconfig fontconfig-config fonts-dejavu-core i965-va-driver\n",
      "  intel-media-va-driver libaacs0 libaom0 libapparmor1 libass9 libasyncns0\n",
      "  libavc1394-0 libavcodec58 libavdevice58 libavfilter7 libavformat58\n",
      "  libavresample4 libavutil56 libbdplus0 libbluray2 libbs2b0 libcaca0\n",
      "  libcairo-gobject2 libcairo2 libcdio-cdda2 libcdio-paranoia2 libcdio18\n",
      "  libchromaprint1 libcodec2-0.9 libdatrie1 libdbus-1-3 libdc1394-22\n",
      "  libdrm-amdgpu1 libdrm-common libdrm-intel1 libdrm-nouveau2 libdrm-radeon1\n",
      "  libdrm2 libelf1 libfftw3-double3 libflac8 libflite1 libfontconfig1\n",
      "  libfreetype6 libfribidi0 libgdk-pixbuf2.0-0 libgdk-pixbuf2.0-bin\n",
      "  libgdk-pixbuf2.0-common libgl1 libgl1-mesa-dri libglapi-mesa libglvnd0\n",
      "  libglx-mesa0 libglx0 libgme0 libgraphite2-3 libgsm1 libharfbuzz0b libice6\n",
      "  libiec61883-0 libigdgmm11 libjack-jackd2-0 libjbig0 liblilv-0-0 libllvm12\n",
      "  libmp3lame0 libmpg123-0 libmysofa1 libnorm1 libopenal-data libopenal1\n",
      "  libopenjp2-7 libopenmpt0 libopus0 libpango-1.0-0 libpangocairo-1.0-0\n",
      "  libpangoft2-1.0-0 libpciaccess0 libpgm-5.2-0 libpixman-1-0 libpng16-16\n",
      "  libpostproc55 libpulse0 libraw1394-11 librsvg2-2 librsvg2-common\n",
      "  librubberband2 libsamplerate0 libsdl2-2.0-0 libsensors-config libsensors5\n",
      "  libserd-0-0 libshine3 libslang2 libsnappy1v5 libsndfile1 libsndio7.0\n",
      "  libsodium23 libsord-0-0 libsoxr0 libspeex1 libsratom-0-0 libssh-gcrypt-4\n",
      "  libswresample3 libswscale5 libthai-data libthai0 libtheora0 libtiff5\n",
      "  libtwolame0 libusb-1.0-0 libva-drm2 libva-x11-2 libva2 libvdpau1\n",
      "  libvidstab1.1 libvorbisenc2 libvpx6 libvulkan1 libwavpack1\n",
      "  libwayland-client0 libwayland-cursor0 libwayland-egl1 libwebp6 libwebpmux3\n",
      "  libwrap0 libx11-6 libx11-data libx11-xcb1 libx264-155 libx265-179 libxau6\n",
      "  libxcb-dri2-0 libxcb-dri3-0 libxcb-glx0 libxcb-present0 libxcb-randr0\n",
      "  libxcb-render0 libxcb-shape0 libxcb-shm0 libxcb-sync1 libxcb-xfixes0 libxcb1\n",
      "  libxcursor1 libxdmcp6 libxfixes3 libxi6 libxinerama1 libxkbcommon0\n",
      "  libxrandr2 libxrender1 libxshmfence1 libxss1 libxv1 libxvidcore4 libxxf86vm1\n",
      "  libzmq5 libzvbi-common libzvbi0 mesa-va-drivers mesa-vdpau-drivers\n",
      "  mesa-vulkan-drivers ocl-icd-libopencl1 shared-mime-info ucf va-driver-all\n",
      "  vdpau-driver-all x11-common xkb-data\n",
      "Suggested packages:\n",
      "  default-dbus-session-bus | dbus-session-bus ffmpeg-doc\n",
      "  i965-va-driver-shaders libbluray-bdj libfftw3-bin libfftw3-dev jackd2\n",
      "  libportaudio2 opus-tools pciutils pulseaudio libraw1394-doc librsvg2-bin\n",
      "  lm-sensors serdi sndiod sordi speex opencl-icd libvdpau-va-gl1\n",
      "  nvidia-vdpau-driver nvidia-legacy-340xx-vdpau-driver\n",
      "  nvidia-legacy-304xx-vdpau-driver\n",
      "The following NEW packages will be installed:\n",
      "  dbus ffmpeg fontconfig fontconfig-config fonts-dejavu-core i965-va-driver\n",
      "  intel-media-va-driver libaacs0 libaom0 libapparmor1 libass9 libasyncns0\n",
      "  libavc1394-0 libavcodec58 libavdevice58 libavfilter7 libavformat58\n",
      "  libavresample4 libavutil56 libbdplus0 libbluray2 libbs2b0 libcaca0\n",
      "  libcairo-gobject2 libcairo2 libcdio-cdda2 libcdio-paranoia2 libcdio18\n",
      "  libchromaprint1 libcodec2-0.9 libdatrie1 libdbus-1-3 libdc1394-22\n",
      "  libdrm-amdgpu1 libdrm-common libdrm-intel1 libdrm-nouveau2 libdrm-radeon1\n",
      "  libdrm2 libelf1 libfftw3-double3 libflac8 libflite1 libfontconfig1\n",
      "  libfreetype6 libfribidi0 libgdk-pixbuf2.0-0 libgdk-pixbuf2.0-bin\n",
      "  libgdk-pixbuf2.0-common libgl1 libgl1-mesa-dri libglapi-mesa libglvnd0\n",
      "  libglx-mesa0 libglx0 libgme0 libgraphite2-3 libgsm1 libharfbuzz0b libice6\n",
      "  libiec61883-0 libigdgmm11 libjack-jackd2-0 libjbig0 liblilv-0-0 libllvm12\n",
      "  libmp3lame0 libmpg123-0 libmysofa1 libnorm1 libopenal-data libopenal1\n",
      "  libopenjp2-7 libopenmpt0 libopus0 libpango-1.0-0 libpangocairo-1.0-0\n",
      "  libpangoft2-1.0-0 libpciaccess0 libpgm-5.2-0 libpixman-1-0 libpng16-16\n",
      "  libpostproc55 libpulse0 libraw1394-11 librsvg2-2 librsvg2-common\n",
      "  librubberband2 libsamplerate0 libsdl2-2.0-0 libsensors-config libsensors5\n",
      "  libserd-0-0 libshine3 libslang2 libsm6 libsnappy1v5 libsndfile1 libsndio7.0\n",
      "  libsodium23 libsord-0-0 libsoxr0 libspeex1 libsratom-0-0 libssh-gcrypt-4\n",
      "  libswresample3 libswscale5 libthai-data libthai0 libtheora0 libtiff5\n",
      "  libtwolame0 libusb-1.0-0 libva-drm2 libva-x11-2 libva2 libvdpau1\n",
      "  libvidstab1.1 libvorbisenc2 libvpx6 libvulkan1 libwavpack1\n",
      "  libwayland-client0 libwayland-cursor0 libwayland-egl1 libwebp6 libwebpmux3\n",
      "  libwrap0 libx11-6 libx11-data libx11-xcb1 libx264-155 libx265-179 libxau6\n",
      "  libxcb-dri2-0 libxcb-dri3-0 libxcb-glx0 libxcb-present0 libxcb-randr0\n",
      "  libxcb-render0 libxcb-shape0 libxcb-shm0 libxcb-sync1 libxcb-xfixes0 libxcb1\n",
      "  libxcursor1 libxdmcp6 libxext6 libxfixes3 libxi6 libxinerama1 libxkbcommon0\n",
      "  libxrandr2 libxrender1 libxshmfence1 libxss1 libxv1 libxvidcore4 libxxf86vm1\n",
      "  libzmq5 libzvbi-common libzvbi0 mesa-va-drivers mesa-vdpau-drivers\n",
      "  mesa-vulkan-drivers ocl-icd-libopencl1 shared-mime-info ucf va-driver-all\n",
      "  vdpau-driver-all x11-common xkb-data\n",
      "0 upgraded, 172 newly installed, 0 to remove and 98 not upgraded.\n",
      "Need to get 96.0 MB of archives.\n",
      "After this operation, 783 MB of additional disk space will be used.\n",
      "Get:1 http://archive.ubuntu.com/ubuntu focal-updates/main amd64 libapparmor1 amd64 2.13.3-7ubuntu5.1 [34.1 kB]\n",
      "Get:2 http://archive.ubuntu.com/ubuntu focal-updates/main amd64 libdbus-1-3 amd64 1.12.16-2ubuntu2.2 [179 kB]\n",
      "Get:3 http://archive.ubuntu.com/ubuntu focal-updates/main amd64 dbus amd64 1.12.16-2ubuntu2.2 [151 kB]\n",
      "Get:4 http://archive.ubuntu.com/ubuntu focal/main amd64 libelf1 amd64 0.176-1.1build1 [44.0 kB]\n",
      "Get:5 http://archive.ubuntu.com/ubuntu focal-updates/main amd64 libfribidi0 amd64 1.0.8-2ubuntu0.1 [24.2 kB]\n",
      "Get:6 http://archive.ubuntu.com/ubuntu focal/main amd64 libslang2 amd64 2.3.2-4 [429 kB]\n",
      "Get:7 http://archive.ubuntu.com/ubuntu focal/main amd64 libsodium23 amd64 1.0.18-1 [150 kB]\n",
      "Get:8 http://archive.ubuntu.com/ubuntu focal/main amd64 shared-mime-info amd64 1.15-1 [430 kB]\n",
      "Get:9 http://archive.ubuntu.com/ubuntu focal/main amd64 ucf all 3.0038+nmu1 [51.6 kB]\n",
      "Get:10 http://archive.ubuntu.com/ubuntu focal/main amd64 xkb-data all 2.29-2 [349 kB]\n",
      "Get:11 http://archive.ubuntu.com/ubuntu focal-updates/main amd64 libdrm-common all 2.4.107-8ubuntu1~20.04.2 [5396 B]\n",
      "Get:12 http://archive.ubuntu.com/ubuntu focal-updates/main amd64 libdrm2 amd64 2.4.107-8ubuntu1~20.04.2 [34.1 kB]\n",
      "Get:13 http://archive.ubuntu.com/ubuntu focal/main amd64 libpng16-16 amd64 1.6.37-2 [179 kB]\n",
      "Get:14 http://archive.ubuntu.com/ubuntu focal/main amd64 libusb-1.0-0 amd64 2:1.0.23-2build1 [46.5 kB]\n",
      "Get:15 http://archive.ubuntu.com/ubuntu focal/main amd64 libxau6 amd64 1:1.0.9-0ubuntu1 [7488 B]\n",
      "Get:16 http://archive.ubuntu.com/ubuntu focal/main amd64 libxdmcp6 amd64 1:1.1.3-0ubuntu1 [10.6 kB]\n",
      "Get:17 http://archive.ubuntu.com/ubuntu focal/main amd64 libxcb1 amd64 1.14-2 [44.7 kB]\n",
      "Get:18 http://archive.ubuntu.com/ubuntu focal-updates/main amd64 libx11-data all 2:1.6.9-2ubuntu1.2 [113 kB]\n",
      "Get:19 http://archive.ubuntu.com/ubuntu focal-updates/main amd64 libx11-6 amd64 2:1.6.9-2ubuntu1.2 [575 kB]\n",
      "Get:20 http://archive.ubuntu.com/ubuntu focal/main amd64 libxext6 amd64 2:1.3.4-0ubuntu1 [29.1 kB]\n",
      "Get:21 http://archive.ubuntu.com/ubuntu focal/universe amd64 libaom0 amd64 1.0.0.errata1-3build1 [1160 kB]\n",
      "Get:22 http://archive.ubuntu.com/ubuntu focal/universe amd64 libva2 amd64 2.7.0-2 [53.5 kB]\n",
      "Get:23 http://archive.ubuntu.com/ubuntu focal/universe amd64 libva-drm2 amd64 2.7.0-2 [7044 B]\n",
      "Get:24 http://archive.ubuntu.com/ubuntu focal/main amd64 libxfixes3 amd64 1:5.0.3-2 [10.9 kB]\n",
      "Get:25 http://archive.ubuntu.com/ubuntu focal/universe amd64 libva-x11-2 amd64 2.7.0-2 [11.9 kB]\n",
      "Get:26 http://archive.ubuntu.com/ubuntu focal/main amd64 libvdpau1 amd64 1.3-1ubuntu2 [25.6 kB]\n",
      "Get:27 http://archive.ubuntu.com/ubuntu focal/main amd64 ocl-icd-libopencl1 amd64 2.2.11-1ubuntu1 [30.3 kB]\n",
      "Get:28 http://archive.ubuntu.com/ubuntu focal-updates/universe amd64 libavutil56 amd64 7:4.2.7-0ubuntu0.1 [241 kB]\n",
      "Get:29 http://archive.ubuntu.com/ubuntu focal-updates/main amd64 libfreetype6 amd64 2.10.1-2ubuntu0.1 [341 kB]\n",
      "Get:30 http://archive.ubuntu.com/ubuntu focal/main amd64 fonts-dejavu-core all 2.37-1 [1041 kB]\n",
      "Get:31 http://archive.ubuntu.com/ubuntu focal/main amd64 fontconfig-config all 2.13.1-2ubuntu3 [28.8 kB]\n",
      "Get:32 http://archive.ubuntu.com/ubuntu focal/main amd64 libfontconfig1 amd64 2.13.1-2ubuntu3 [114 kB]\n",
      "Get:33 http://archive.ubuntu.com/ubuntu focal/main amd64 libpixman-1-0 amd64 0.38.4-0ubuntu1 [227 kB]\n",
      "Get:34 http://archive.ubuntu.com/ubuntu focal/main amd64 libxcb-render0 amd64 1.14-2 [14.8 kB]\n",
      "Get:35 http://archive.ubuntu.com/ubuntu focal/main amd64 libxcb-shm0 amd64 1.14-2 [5584 B]\n",
      "Get:36 http://archive.ubuntu.com/ubuntu focal/main amd64 libxrender1 amd64 1:0.9.10-1 [18.7 kB]\n",
      "Get:37 http://archive.ubuntu.com/ubuntu focal/main amd64 libcairo2 amd64 1.16.0-4ubuntu1 [583 kB]\n",
      "Get:38 http://archive.ubuntu.com/ubuntu focal/universe amd64 libcodec2-0.9 amd64 0.9.2-2 [7886 kB]\n",
      "Get:39 http://archive.ubuntu.com/ubuntu focal/universe amd64 libgsm1 amd64 1.0.18-2 [24.4 kB]\n",
      "Get:40 http://archive.ubuntu.com/ubuntu focal/main amd64 libmp3lame0 amd64 3.100-3 [133 kB]\n",
      "Get:41 http://archive.ubuntu.com/ubuntu focal-updates/main amd64 libopenjp2-7 amd64 2.3.1-1ubuntu4.20.04.1 [141 kB]\n",
      "Get:42 http://archive.ubuntu.com/ubuntu focal/main amd64 libopus0 amd64 1.3.1-0ubuntu1 [191 kB]\n",
      "Get:43 http://archive.ubuntu.com/ubuntu focal/main amd64 libcairo-gobject2 amd64 1.16.0-4ubuntu1 [17.2 kB]\n",
      "Get:44 http://archive.ubuntu.com/ubuntu focal/main amd64 libjbig0 amd64 2.1-3.1build1 [26.7 kB]\n",
      "Get:45 http://archive.ubuntu.com/ubuntu focal-updates/main amd64 libwebp6 amd64 0.6.1-2ubuntu0.20.04.1 [185 kB]\n",
      "Get:46 http://archive.ubuntu.com/ubuntu focal-updates/main amd64 libtiff5 amd64 4.1.0+git191117-2ubuntu0.20.04.3 [162 kB]\n",
      "Get:47 http://archive.ubuntu.com/ubuntu focal-updates/main amd64 libgdk-pixbuf2.0-common all 2.40.0+dfsg-3ubuntu0.2 [4652 B]\n",
      "Get:48 http://archive.ubuntu.com/ubuntu focal-updates/main amd64 libgdk-pixbuf2.0-0 amd64 2.40.0+dfsg-3ubuntu0.2 [168 kB]\n",
      "Get:49 http://archive.ubuntu.com/ubuntu focal/main amd64 fontconfig amd64 2.13.1-2ubuntu3 [171 kB]\n",
      "Get:50 http://archive.ubuntu.com/ubuntu focal/main amd64 libgraphite2-3 amd64 1.3.13-11build1 [73.5 kB]\n",
      "Get:51 http://archive.ubuntu.com/ubuntu focal/main amd64 libharfbuzz0b amd64 2.6.4-1ubuntu4 [391 kB]\n",
      "Get:52 http://archive.ubuntu.com/ubuntu focal/main amd64 libthai-data all 0.1.28-3 [134 kB]\n",
      "Get:53 http://archive.ubuntu.com/ubuntu focal/main amd64 libdatrie1 amd64 0.2.12-3 [18.7 kB]\n",
      "Get:54 http://archive.ubuntu.com/ubuntu focal/main amd64 libthai0 amd64 0.1.28-3 [18.1 kB]\n",
      "Get:55 http://archive.ubuntu.com/ubuntu focal/main amd64 libpango-1.0-0 amd64 1.44.7-2ubuntu4 [162 kB]\n",
      "Get:56 http://archive.ubuntu.com/ubuntu focal/main amd64 libpangoft2-1.0-0 amd64 1.44.7-2ubuntu4 [34.9 kB]\n",
      "Get:57 http://archive.ubuntu.com/ubuntu focal/main amd64 libpangocairo-1.0-0 amd64 1.44.7-2ubuntu4 [24.8 kB]\n",
      "Get:58 http://archive.ubuntu.com/ubuntu focal-updates/main amd64 librsvg2-2 amd64 2.48.9-1ubuntu0.20.04.1 [2253 kB]\n",
      "Get:59 http://archive.ubuntu.com/ubuntu focal/universe amd64 libshine3 amd64 3.1.1-2 [23.2 kB]\n",
      "Get:60 http://archive.ubuntu.com/ubuntu focal/main amd64 libsnappy1v5 amd64 1.1.8-1build1 [16.7 kB]\n",
      "Get:61 http://archive.ubuntu.com/ubuntu focal-updates/main amd64 libspeex1 amd64 1.2~rc1.2-1.1ubuntu1.20.04.1 [53.2 kB]\n",
      "Get:62 http://archive.ubuntu.com/ubuntu focal/main amd64 libsoxr0 amd64 0.1.3-2build1 [78.0 kB]\n",
      "Get:63 http://archive.ubuntu.com/ubuntu focal-updates/universe amd64 libswresample3 amd64 7:4.2.7-0ubuntu0.1 [57.1 kB]\n",
      "Get:64 http://archive.ubuntu.com/ubuntu focal/main amd64 libtheora0 amd64 1.1.1+dfsg.1-15ubuntu2 [162 kB]\n",
      "Get:65 http://archive.ubuntu.com/ubuntu focal/main amd64 libtwolame0 amd64 0.4.0-2 [47.6 kB]\n",
      "Get:66 http://archive.ubuntu.com/ubuntu focal/main amd64 libvorbisenc2 amd64 1.3.6-2ubuntu1 [70.7 kB]\n",
      "Get:67 http://archive.ubuntu.com/ubuntu focal/main amd64 libvpx6 amd64 1.8.2-1build1 [820 kB]\n",
      "Get:68 http://archive.ubuntu.com/ubuntu focal-updates/main amd64 libwavpack1 amd64 5.2.0-1ubuntu0.1 [77.3 kB]\n",
      "Get:69 http://archive.ubuntu.com/ubuntu focal-updates/main amd64 libwebpmux3 amd64 0.6.1-2ubuntu0.20.04.1 [19.5 kB]\n",
      "Get:70 http://archive.ubuntu.com/ubuntu focal/universe amd64 libx264-155 amd64 2:0.155.2917+git0a84d98-2 [521 kB]\n",
      "Get:71 http://archive.ubuntu.com/ubuntu focal/universe amd64 libx265-179 amd64 3.2.1-1build1 [1060 kB]\n",
      "Get:72 http://archive.ubuntu.com/ubuntu focal/universe amd64 libxvidcore4 amd64 2:1.3.7-1 [201 kB]\n",
      "Get:73 http://archive.ubuntu.com/ubuntu focal/universe amd64 libzvbi-common all 0.2.35-17 [32.5 kB]\n",
      "Get:74 http://archive.ubuntu.com/ubuntu focal/universe amd64 libzvbi0 amd64 0.2.35-17 [237 kB]\n",
      "Get:75 http://archive.ubuntu.com/ubuntu focal-updates/universe amd64 libavcodec58 amd64 7:4.2.7-0ubuntu0.1 [4878 kB]\n",
      "Get:76 http://archive.ubuntu.com/ubuntu focal/main amd64 libraw1394-11 amd64 2.1.2-1 [30.7 kB]\n",
      "Get:77 http://archive.ubuntu.com/ubuntu focal/main amd64 libavc1394-0 amd64 0.5.4-5 [16.2 kB]\n",
      "Get:78 http://archive.ubuntu.com/ubuntu focal/universe amd64 libass9 amd64 1:0.14.0-2 [88.0 kB]\n",
      "Get:79 http://archive.ubuntu.com/ubuntu focal/universe amd64 libbluray2 amd64 1:1.2.0-1 [138 kB]\n",
      "Get:80 http://archive.ubuntu.com/ubuntu focal/universe amd64 libchromaprint1 amd64 1.4.3-3build1 [37.6 kB]\n",
      "Get:81 http://archive.ubuntu.com/ubuntu focal/universe amd64 libgme0 amd64 0.6.2-1build1 [123 kB]\n",
      "Get:82 http://archive.ubuntu.com/ubuntu focal/main amd64 libmpg123-0 amd64 1.25.13-1 [124 kB]\n",
      "Get:83 http://archive.ubuntu.com/ubuntu focal/universe amd64 libopenmpt0 amd64 0.4.11-1build1 [599 kB]\n",
      "Get:84 http://archive.ubuntu.com/ubuntu focal-updates/main amd64 libssh-gcrypt-4 amd64 0.9.3-2ubuntu2.2 [202 kB]\n",
      "Get:85 http://archive.ubuntu.com/ubuntu focal-updates/universe amd64 libavformat58 amd64 7:4.2.7-0ubuntu0.1 [985 kB]\n",
      "Get:86 http://archive.ubuntu.com/ubuntu focal/universe amd64 libbs2b0 amd64 3.1.0+dfsg-2.2build1 [10.2 kB]\n",
      "Get:87 http://archive.ubuntu.com/ubuntu focal/universe amd64 libflite1 amd64 2.1-release-3 [12.8 MB]\n",
      "Get:88 http://archive.ubuntu.com/ubuntu focal/universe amd64 libserd-0-0 amd64 0.30.2-1 [46.6 kB]\n",
      "Get:89 http://archive.ubuntu.com/ubuntu focal/universe amd64 libsord-0-0 amd64 0.16.4-1 [19.5 kB]\n",
      "Get:90 http://archive.ubuntu.com/ubuntu focal/universe amd64 libsratom-0-0 amd64 0.6.4-1 [16.9 kB]\n",
      "Get:91 http://archive.ubuntu.com/ubuntu focal-updates/universe amd64 liblilv-0-0 amd64 0.24.6-1ubuntu0.1 [40.6 kB]\n",
      "Get:92 http://archive.ubuntu.com/ubuntu focal/universe amd64 libmysofa1 amd64 1.0~dfsg0-1 [39.2 kB]\n",
      "Get:93 http://archive.ubuntu.com/ubuntu focal-updates/universe amd64 libpostproc55 amd64 7:4.2.7-0ubuntu0.1 [55.0 kB]\n",
      "Get:94 http://archive.ubuntu.com/ubuntu focal/main amd64 libfftw3-double3 amd64 3.3.8-2ubuntu1 [728 kB]\n",
      "Get:95 http://archive.ubuntu.com/ubuntu focal/main amd64 libsamplerate0 amd64 0.1.9-2 [939 kB]\n",
      "Get:96 http://archive.ubuntu.com/ubuntu focal/universe amd64 librubberband2 amd64 1.8.2-1build1 [89.4 kB]\n",
      "Get:97 http://archive.ubuntu.com/ubuntu focal-updates/universe amd64 libswscale5 amd64 7:4.2.7-0ubuntu0.1 [157 kB]\n",
      "Get:98 http://archive.ubuntu.com/ubuntu focal/universe amd64 libvidstab1.1 amd64 1.1.0-2 [35.0 kB]\n",
      "Get:99 http://archive.ubuntu.com/ubuntu focal/universe amd64 libnorm1 amd64 1.5.8+dfsg2-2build1 [290 kB]\n",
      "Get:100 http://archive.ubuntu.com/ubuntu focal/universe amd64 libpgm-5.2-0 amd64 5.2.122~dfsg-3ubuntu1 [158 kB]\n",
      "Get:101 http://archive.ubuntu.com/ubuntu focal/universe amd64 libzmq5 amd64 4.3.2-2ubuntu1 [242 kB]\n",
      "Get:102 http://archive.ubuntu.com/ubuntu focal-updates/universe amd64 libavfilter7 amd64 7:4.2.7-0ubuntu0.1 [1085 kB]\n",
      "Get:103 http://archive.ubuntu.com/ubuntu focal-updates/main amd64 libcaca0 amd64 0.99.beta19-2.1ubuntu1.20.04.2 [203 kB]\n",
      "Get:104 http://archive.ubuntu.com/ubuntu focal/main amd64 libcdio18 amd64 2.0.0-2 [58.6 kB]\n",
      "Get:105 http://archive.ubuntu.com/ubuntu focal/main amd64 libcdio-cdda2 amd64 10.2+2.0.0-1 [17.6 kB]\n",
      "Get:106 http://archive.ubuntu.com/ubuntu focal/main amd64 libcdio-paranoia2 amd64 10.2+2.0.0-1 [16.2 kB]\n",
      "Get:107 http://archive.ubuntu.com/ubuntu focal/universe amd64 libdc1394-22 amd64 2.2.5-2.1 [79.6 kB]\n",
      "Get:108 http://archive.ubuntu.com/ubuntu focal-updates/main amd64 libglvnd0 amd64 1.3.2-1~ubuntu0.20.04.2 [48.1 kB]\n",
      "Get:109 http://archive.ubuntu.com/ubuntu focal-updates/main amd64 libglapi-mesa amd64 21.2.6-0ubuntu0.1~20.04.2 [27.4 kB]\n",
      "Get:110 http://archive.ubuntu.com/ubuntu focal-updates/main amd64 libx11-xcb1 amd64 2:1.6.9-2ubuntu1.2 [9372 B]\n",
      "Get:111 http://archive.ubuntu.com/ubuntu focal/main amd64 libxcb-dri2-0 amd64 1.14-2 [6920 B]\n",
      "Get:112 http://archive.ubuntu.com/ubuntu focal/main amd64 libxcb-dri3-0 amd64 1.14-2 [6552 B]\n",
      "Get:113 http://archive.ubuntu.com/ubuntu focal/main amd64 libxcb-glx0 amd64 1.14-2 [22.1 kB]\n",
      "Get:114 http://archive.ubuntu.com/ubuntu focal/main amd64 libxcb-present0 amd64 1.14-2 [5560 B]\n",
      "Get:115 http://archive.ubuntu.com/ubuntu focal/main amd64 libxcb-sync1 amd64 1.14-2 [8884 B]\n",
      "Get:116 http://archive.ubuntu.com/ubuntu focal/main amd64 libxcb-xfixes0 amd64 1.14-2 [9296 B]\n",
      "Get:117 http://archive.ubuntu.com/ubuntu focal/main amd64 libxshmfence1 amd64 1.3-1 [5028 B]\n",
      "Get:118 http://archive.ubuntu.com/ubuntu focal/main amd64 libxxf86vm1 amd64 1:1.1.4-1build1 [10.2 kB]\n",
      "Get:119 http://archive.ubuntu.com/ubuntu focal-updates/main amd64 libdrm-amdgpu1 amd64 2.4.107-8ubuntu1~20.04.2 [18.6 kB]\n",
      "Get:120 http://archive.ubuntu.com/ubuntu focal/main amd64 libpciaccess0 amd64 0.16-0ubuntu1 [17.9 kB]\n",
      "Get:121 http://archive.ubuntu.com/ubuntu focal-updates/main amd64 libdrm-intel1 amd64 2.4.107-8ubuntu1~20.04.2 [60.3 kB]\n",
      "Get:122 http://archive.ubuntu.com/ubuntu focal-updates/main amd64 libdrm-nouveau2 amd64 2.4.107-8ubuntu1~20.04.2 [16.6 kB]\n",
      "Get:123 http://archive.ubuntu.com/ubuntu focal-updates/main amd64 libdrm-radeon1 amd64 2.4.107-8ubuntu1~20.04.2 [19.7 kB]\n",
      "Get:124 http://archive.ubuntu.com/ubuntu focal-updates/main amd64 libllvm12 amd64 1:12.0.0-3ubuntu1~20.04.5 [18.8 MB]\n",
      "Get:125 http://archive.ubuntu.com/ubuntu focal-updates/main amd64 libsensors-config all 1:3.6.0-2ubuntu1.1 [6052 B]\n",
      "Get:126 http://archive.ubuntu.com/ubuntu focal-updates/main amd64 libsensors5 amd64 1:3.6.0-2ubuntu1.1 [27.2 kB]\n",
      "Get:127 http://archive.ubuntu.com/ubuntu focal/main amd64 libvulkan1 amd64 1.2.131.2-1 [93.3 kB]\n",
      "Get:128 http://archive.ubuntu.com/ubuntu focal-updates/main amd64 libgl1-mesa-dri amd64 21.2.6-0ubuntu0.1~20.04.2 [11.0 MB]\n",
      "Get:129 http://archive.ubuntu.com/ubuntu focal-updates/main amd64 libglx-mesa0 amd64 21.2.6-0ubuntu0.1~20.04.2 [137 kB]\n",
      "Get:130 http://archive.ubuntu.com/ubuntu focal-updates/main amd64 libglx0 amd64 1.3.2-1~ubuntu0.20.04.2 [32.5 kB]\n",
      "Get:131 http://archive.ubuntu.com/ubuntu focal-updates/main amd64 libgl1 amd64 1.3.2-1~ubuntu0.20.04.2 [85.8 kB]\n",
      "Get:132 http://archive.ubuntu.com/ubuntu focal/main amd64 libiec61883-0 amd64 1.2.0-3 [24.3 kB]\n",
      "Get:133 http://archive.ubuntu.com/ubuntu focal/main amd64 libjack-jackd2-0 amd64 1.9.12~dfsg-2ubuntu2 [267 kB]\n",
      "Get:134 http://archive.ubuntu.com/ubuntu focal/universe amd64 libopenal-data all 1:1.19.1-1 [162 kB]\n",
      "Get:135 http://archive.ubuntu.com/ubuntu focal/universe amd64 libsndio7.0 amd64 1.5.0-3 [24.5 kB]\n",
      "Get:136 http://archive.ubuntu.com/ubuntu focal/universe amd64 libopenal1 amd64 1:1.19.1-1 [492 kB]\n",
      "Get:137 http://archive.ubuntu.com/ubuntu focal/main amd64 libasyncns0 amd64 0.8-6 [12.1 kB]\n",
      "Get:138 http://archive.ubuntu.com/ubuntu focal/main amd64 libflac8 amd64 1.3.3-1build1 [103 kB]\n",
      "Get:139 http://archive.ubuntu.com/ubuntu focal-updates/main amd64 libsndfile1 amd64 1.0.28-7ubuntu0.1 [170 kB]\n",
      "Get:140 http://archive.ubuntu.com/ubuntu focal/main amd64 libwrap0 amd64 7.6.q-30 [46.3 kB]\n",
      "Get:141 http://archive.ubuntu.com/ubuntu focal-updates/main amd64 libpulse0 amd64 1:13.99.1-1ubuntu3.13 [262 kB]\n",
      "Get:142 http://archive.ubuntu.com/ubuntu focal/main amd64 libwayland-client0 amd64 1.18.0-1 [23.9 kB]\n",
      "Get:143 http://archive.ubuntu.com/ubuntu focal/main amd64 libwayland-cursor0 amd64 1.18.0-1 [10.3 kB]\n",
      "Get:144 http://archive.ubuntu.com/ubuntu focal/main amd64 libwayland-egl1 amd64 1.18.0-1 [5692 B]\n",
      "Get:145 http://archive.ubuntu.com/ubuntu focal/main amd64 libxcursor1 amd64 1:1.2.0-2 [20.1 kB]\n",
      "Get:146 http://archive.ubuntu.com/ubuntu focal/main amd64 libxi6 amd64 2:1.7.10-0ubuntu1 [29.9 kB]\n",
      "Get:147 http://archive.ubuntu.com/ubuntu focal/main amd64 libxinerama1 amd64 2:1.1.4-2 [6904 B]\n",
      "Get:148 http://archive.ubuntu.com/ubuntu focal/main amd64 libxkbcommon0 amd64 0.10.0-1 [98.4 kB]\n",
      "Get:149 http://archive.ubuntu.com/ubuntu focal/main amd64 libxrandr2 amd64 2:1.5.2-0ubuntu1 [18.5 kB]\n",
      "Get:150 http://archive.ubuntu.com/ubuntu focal/main amd64 x11-common all 1:7.7+19ubuntu14 [22.3 kB]\n",
      "Get:151 http://archive.ubuntu.com/ubuntu focal/main amd64 libxss1 amd64 1:1.2.3-1 [8140 B]\n",
      "Get:152 http://archive.ubuntu.com/ubuntu focal/universe amd64 libsdl2-2.0-0 amd64 2.0.10+dfsg1-3 [407 kB]\n",
      "Get:153 http://archive.ubuntu.com/ubuntu focal/main amd64 libxcb-shape0 amd64 1.14-2 [5928 B]\n",
      "Get:154 http://archive.ubuntu.com/ubuntu focal/main amd64 libxv1 amd64 2:1.0.11-1 [10.7 kB]\n",
      "Get:155 http://archive.ubuntu.com/ubuntu focal-updates/universe amd64 libavdevice58 amd64 7:4.2.7-0ubuntu0.1 [74.3 kB]\n",
      "Get:156 http://archive.ubuntu.com/ubuntu focal-updates/universe amd64 libavresample4 amd64 7:4.2.7-0ubuntu0.1 [54.2 kB]\n",
      "Get:157 http://archive.ubuntu.com/ubuntu focal-updates/universe amd64 ffmpeg amd64 7:4.2.7-0ubuntu0.1 [1453 kB]\n",
      "Get:158 http://archive.ubuntu.com/ubuntu focal/universe amd64 libigdgmm11 amd64 20.1.1+ds1-1 [111 kB]\n",
      "Get:159 http://archive.ubuntu.com/ubuntu focal/universe amd64 intel-media-va-driver amd64 20.1.1+dfsg1-1 [1764 kB]\n",
      "Get:160 http://archive.ubuntu.com/ubuntu focal/universe amd64 libaacs0 amd64 0.9.0-2 [50.1 kB]\n",
      "Get:161 http://archive.ubuntu.com/ubuntu focal/universe amd64 libbdplus0 amd64 0.1.2-3 [47.3 kB]\n",
      "Get:162 http://archive.ubuntu.com/ubuntu focal-updates/main amd64 libgdk-pixbuf2.0-bin amd64 2.40.0+dfsg-3ubuntu0.2 [14.1 kB]\n",
      "Get:163 http://archive.ubuntu.com/ubuntu focal/main amd64 libice6 amd64 2:1.0.10-0ubuntu1 [41.0 kB]\n",
      "Get:164 http://archive.ubuntu.com/ubuntu focal-updates/main amd64 librsvg2-common amd64 2.48.9-1ubuntu0.20.04.1 [9212 B]\n",
      "Get:165 http://archive.ubuntu.com/ubuntu focal/main amd64 libsm6 amd64 2:1.2.3-1 [16.1 kB]\n",
      "Get:166 http://archive.ubuntu.com/ubuntu focal/main amd64 libxcb-randr0 amd64 1.14-2 [16.3 kB]\n",
      "Get:167 http://archive.ubuntu.com/ubuntu focal-updates/universe amd64 mesa-va-drivers amd64 21.2.6-0ubuntu0.1~20.04.2 [2970 kB]\n",
      "Get:168 http://archive.ubuntu.com/ubuntu focal-updates/main amd64 mesa-vdpau-drivers amd64 21.2.6-0ubuntu0.1~20.04.2 [3089 kB]\n",
      "Get:169 http://archive.ubuntu.com/ubuntu focal-updates/main amd64 mesa-vulkan-drivers amd64 21.2.6-0ubuntu0.1~20.04.2 [5788 kB]\n",
      "Get:170 http://archive.ubuntu.com/ubuntu focal/universe amd64 i965-va-driver amd64 2.4.0-0ubuntu1 [924 kB]\n",
      "Get:171 http://archive.ubuntu.com/ubuntu focal/universe amd64 va-driver-all amd64 2.7.0-2 [4020 B]\n",
      "Get:172 http://archive.ubuntu.com/ubuntu focal/main amd64 vdpau-driver-all amd64 1.3-1ubuntu2 [4596 B]\n",
      "Fetched 96.0 MB in 6s (16.5 MB/s)             \n",
      "debconf: unable to initialize frontend: Dialog\n",
      "debconf: (No usable dialog-like program is installed, so the dialog based frontend cannot be used. at /usr/share/perl5/Debconf/FrontEnd/Dialog.pm line 76, <> line 172.)\n",
      "debconf: falling back to frontend: Readline\n",
      "Extracting templates from packages: 100%\n",
      "Preconfiguring packages ...\n",
      "Selecting previously unselected package libapparmor1:amd64.\n",
      "(Reading database ... 50468 files and directories currently installed.)\n",
      "Preparing to unpack .../000-libapparmor1_2.13.3-7ubuntu5.1_amd64.deb ...\n",
      "Unpacking libapparmor1:amd64 (2.13.3-7ubuntu5.1) ...\n",
      "Selecting previously unselected package libdbus-1-3:amd64.\n",
      "Preparing to unpack .../001-libdbus-1-3_1.12.16-2ubuntu2.2_amd64.deb ...\n",
      "Unpacking libdbus-1-3:amd64 (1.12.16-2ubuntu2.2) ...\n",
      "Selecting previously unselected package dbus.\n",
      "Preparing to unpack .../002-dbus_1.12.16-2ubuntu2.2_amd64.deb ...\n",
      "Unpacking dbus (1.12.16-2ubuntu2.2) ...\n",
      "Selecting previously unselected package libelf1:amd64.\n",
      "Preparing to unpack .../003-libelf1_0.176-1.1build1_amd64.deb ...\n",
      "Unpacking libelf1:amd64 (0.176-1.1build1) ...\n",
      "Selecting previously unselected package libfribidi0:amd64.\n",
      "Preparing to unpack .../004-libfribidi0_1.0.8-2ubuntu0.1_amd64.deb ...\n",
      "Unpacking libfribidi0:amd64 (1.0.8-2ubuntu0.1) ...\n",
      "Selecting previously unselected package libslang2:amd64.\n",
      "Preparing to unpack .../005-libslang2_2.3.2-4_amd64.deb ...\n",
      "Unpacking libslang2:amd64 (2.3.2-4) ...\n",
      "Selecting previously unselected package libsodium23:amd64.\n",
      "Preparing to unpack .../006-libsodium23_1.0.18-1_amd64.deb ...\n",
      "Unpacking libsodium23:amd64 (1.0.18-1) ...\n",
      "Selecting previously unselected package shared-mime-info.\n",
      "Preparing to unpack .../007-shared-mime-info_1.15-1_amd64.deb ...\n",
      "Unpacking shared-mime-info (1.15-1) ...\n",
      "Selecting previously unselected package ucf.\n",
      "Preparing to unpack .../008-ucf_3.0038+nmu1_all.deb ...\n",
      "Moving old data out of the way\n",
      "Unpacking ucf (3.0038+nmu1) ...\n",
      "Selecting previously unselected package xkb-data.\n",
      "Preparing to unpack .../009-xkb-data_2.29-2_all.deb ...\n",
      "Unpacking xkb-data (2.29-2) ...\n",
      "Selecting previously unselected package libdrm-common.\n",
      "Preparing to unpack .../010-libdrm-common_2.4.107-8ubuntu1~20.04.2_all.deb ...\n",
      "Unpacking libdrm-common (2.4.107-8ubuntu1~20.04.2) ...\n",
      "Selecting previously unselected package libdrm2:amd64.\n",
      "Preparing to unpack .../011-libdrm2_2.4.107-8ubuntu1~20.04.2_amd64.deb ...\n",
      "Unpacking libdrm2:amd64 (2.4.107-8ubuntu1~20.04.2) ...\n",
      "Selecting previously unselected package libpng16-16:amd64.\n",
      "Preparing to unpack .../012-libpng16-16_1.6.37-2_amd64.deb ...\n",
      "Unpacking libpng16-16:amd64 (1.6.37-2) ...\n",
      "Selecting previously unselected package libusb-1.0-0:amd64.\n",
      "Preparing to unpack .../013-libusb-1.0-0_2%3a1.0.23-2build1_amd64.deb ...\n",
      "Unpacking libusb-1.0-0:amd64 (2:1.0.23-2build1) ...\n",
      "Selecting previously unselected package libxau6:amd64.\n",
      "Preparing to unpack .../014-libxau6_1%3a1.0.9-0ubuntu1_amd64.deb ...\n",
      "Unpacking libxau6:amd64 (1:1.0.9-0ubuntu1) ...\n",
      "Selecting previously unselected package libxdmcp6:amd64.\n",
      "Preparing to unpack .../015-libxdmcp6_1%3a1.1.3-0ubuntu1_amd64.deb ...\n",
      "Unpacking libxdmcp6:amd64 (1:1.1.3-0ubuntu1) ...\n",
      "Selecting previously unselected package libxcb1:amd64.\n",
      "Preparing to unpack .../016-libxcb1_1.14-2_amd64.deb ...\n",
      "Unpacking libxcb1:amd64 (1.14-2) ...\n",
      "Selecting previously unselected package libx11-data.\n",
      "Preparing to unpack .../017-libx11-data_2%3a1.6.9-2ubuntu1.2_all.deb ...\n",
      "Unpacking libx11-data (2:1.6.9-2ubuntu1.2) ...\n",
      "Selecting previously unselected package libx11-6:amd64.\n",
      "Preparing to unpack .../018-libx11-6_2%3a1.6.9-2ubuntu1.2_amd64.deb ...\n",
      "Unpacking libx11-6:amd64 (2:1.6.9-2ubuntu1.2) ...\n",
      "Selecting previously unselected package libxext6:amd64.\n",
      "Preparing to unpack .../019-libxext6_2%3a1.3.4-0ubuntu1_amd64.deb ...\n",
      "Unpacking libxext6:amd64 (2:1.3.4-0ubuntu1) ...\n",
      "Selecting previously unselected package libaom0:amd64.\n",
      "Preparing to unpack .../020-libaom0_1.0.0.errata1-3build1_amd64.deb ...\n",
      "Unpacking libaom0:amd64 (1.0.0.errata1-3build1) ...\n",
      "Selecting previously unselected package libva2:amd64.\n",
      "Preparing to unpack .../021-libva2_2.7.0-2_amd64.deb ...\n",
      "Unpacking libva2:amd64 (2.7.0-2) ...\n",
      "Selecting previously unselected package libva-drm2:amd64.\n",
      "Preparing to unpack .../022-libva-drm2_2.7.0-2_amd64.deb ...\n",
      "Unpacking libva-drm2:amd64 (2.7.0-2) ...\n",
      "Selecting previously unselected package libxfixes3:amd64.\n",
      "Preparing to unpack .../023-libxfixes3_1%3a5.0.3-2_amd64.deb ...\n",
      "Unpacking libxfixes3:amd64 (1:5.0.3-2) ...\n",
      "Selecting previously unselected package libva-x11-2:amd64.\n",
      "Preparing to unpack .../024-libva-x11-2_2.7.0-2_amd64.deb ...\n",
      "Unpacking libva-x11-2:amd64 (2.7.0-2) ...\n",
      "Selecting previously unselected package libvdpau1:amd64.\n",
      "Preparing to unpack .../025-libvdpau1_1.3-1ubuntu2_amd64.deb ...\n",
      "Unpacking libvdpau1:amd64 (1.3-1ubuntu2) ...\n",
      "Selecting previously unselected package ocl-icd-libopencl1:amd64.\n",
      "Preparing to unpack .../026-ocl-icd-libopencl1_2.2.11-1ubuntu1_amd64.deb ...\n",
      "Unpacking ocl-icd-libopencl1:amd64 (2.2.11-1ubuntu1) ...\n",
      "Selecting previously unselected package libavutil56:amd64.\n",
      "Preparing to unpack .../027-libavutil56_7%3a4.2.7-0ubuntu0.1_amd64.deb ...\n",
      "Unpacking libavutil56:amd64 (7:4.2.7-0ubuntu0.1) ...\n",
      "Selecting previously unselected package libfreetype6:amd64.\n",
      "Preparing to unpack .../028-libfreetype6_2.10.1-2ubuntu0.1_amd64.deb ...\n",
      "Unpacking libfreetype6:amd64 (2.10.1-2ubuntu0.1) ...\n",
      "Selecting previously unselected package fonts-dejavu-core.\n",
      "Preparing to unpack .../029-fonts-dejavu-core_2.37-1_all.deb ...\n",
      "Unpacking fonts-dejavu-core (2.37-1) ...\n",
      "Selecting previously unselected package fontconfig-config.\n",
      "Preparing to unpack .../030-fontconfig-config_2.13.1-2ubuntu3_all.deb ...\n",
      "Unpacking fontconfig-config (2.13.1-2ubuntu3) ...\n",
      "Selecting previously unselected package libfontconfig1:amd64.\n",
      "Preparing to unpack .../031-libfontconfig1_2.13.1-2ubuntu3_amd64.deb ...\n",
      "Unpacking libfontconfig1:amd64 (2.13.1-2ubuntu3) ...\n",
      "Selecting previously unselected package libpixman-1-0:amd64.\n",
      "Preparing to unpack .../032-libpixman-1-0_0.38.4-0ubuntu1_amd64.deb ...\n",
      "Unpacking libpixman-1-0:amd64 (0.38.4-0ubuntu1) ...\n",
      "Selecting previously unselected package libxcb-render0:amd64.\n",
      "Preparing to unpack .../033-libxcb-render0_1.14-2_amd64.deb ...\n",
      "Unpacking libxcb-render0:amd64 (1.14-2) ...\n",
      "Selecting previously unselected package libxcb-shm0:amd64.\n",
      "Preparing to unpack .../034-libxcb-shm0_1.14-2_amd64.deb ...\n",
      "Unpacking libxcb-shm0:amd64 (1.14-2) ...\n",
      "Selecting previously unselected package libxrender1:amd64.\n",
      "Preparing to unpack .../035-libxrender1_1%3a0.9.10-1_amd64.deb ...\n",
      "Unpacking libxrender1:amd64 (1:0.9.10-1) ...\n",
      "Selecting previously unselected package libcairo2:amd64.\n",
      "Preparing to unpack .../036-libcairo2_1.16.0-4ubuntu1_amd64.deb ...\n",
      "Unpacking libcairo2:amd64 (1.16.0-4ubuntu1) ...\n",
      "Selecting previously unselected package libcodec2-0.9:amd64.\n",
      "Preparing to unpack .../037-libcodec2-0.9_0.9.2-2_amd64.deb ...\n",
      "Unpacking libcodec2-0.9:amd64 (0.9.2-2) ...\n",
      "Selecting previously unselected package libgsm1:amd64.\n",
      "Preparing to unpack .../038-libgsm1_1.0.18-2_amd64.deb ...\n",
      "Unpacking libgsm1:amd64 (1.0.18-2) ...\n",
      "Selecting previously unselected package libmp3lame0:amd64.\n",
      "Preparing to unpack .../039-libmp3lame0_3.100-3_amd64.deb ...\n",
      "Unpacking libmp3lame0:amd64 (3.100-3) ...\n",
      "Selecting previously unselected package libopenjp2-7:amd64.\n",
      "Preparing to unpack .../040-libopenjp2-7_2.3.1-1ubuntu4.20.04.1_amd64.deb ...\n",
      "Unpacking libopenjp2-7:amd64 (2.3.1-1ubuntu4.20.04.1) ...\n",
      "Selecting previously unselected package libopus0:amd64.\n",
      "Preparing to unpack .../041-libopus0_1.3.1-0ubuntu1_amd64.deb ...\n",
      "Unpacking libopus0:amd64 (1.3.1-0ubuntu1) ...\n",
      "Selecting previously unselected package libcairo-gobject2:amd64.\n",
      "Preparing to unpack .../042-libcairo-gobject2_1.16.0-4ubuntu1_amd64.deb ...\n",
      "Unpacking libcairo-gobject2:amd64 (1.16.0-4ubuntu1) ...\n",
      "Selecting previously unselected package libjbig0:amd64.\n",
      "Preparing to unpack .../043-libjbig0_2.1-3.1build1_amd64.deb ...\n",
      "Unpacking libjbig0:amd64 (2.1-3.1build1) ...\n",
      "Selecting previously unselected package libwebp6:amd64.\n",
      "Preparing to unpack .../044-libwebp6_0.6.1-2ubuntu0.20.04.1_amd64.deb ...\n",
      "Unpacking libwebp6:amd64 (0.6.1-2ubuntu0.20.04.1) ...\n",
      "Selecting previously unselected package libtiff5:amd64.\n",
      "Preparing to unpack .../045-libtiff5_4.1.0+git191117-2ubuntu0.20.04.3_amd64.deb ...\n",
      "Unpacking libtiff5:amd64 (4.1.0+git191117-2ubuntu0.20.04.3) ...\n",
      "Selecting previously unselected package libgdk-pixbuf2.0-common.\n",
      "Preparing to unpack .../046-libgdk-pixbuf2.0-common_2.40.0+dfsg-3ubuntu0.2_all.deb ...\n",
      "Unpacking libgdk-pixbuf2.0-common (2.40.0+dfsg-3ubuntu0.2) ...\n",
      "Selecting previously unselected package libgdk-pixbuf2.0-0:amd64.\n",
      "Preparing to unpack .../047-libgdk-pixbuf2.0-0_2.40.0+dfsg-3ubuntu0.2_amd64.deb ...\n",
      "Unpacking libgdk-pixbuf2.0-0:amd64 (2.40.0+dfsg-3ubuntu0.2) ...\n",
      "Selecting previously unselected package fontconfig.\n",
      "Preparing to unpack .../048-fontconfig_2.13.1-2ubuntu3_amd64.deb ...\n",
      "Unpacking fontconfig (2.13.1-2ubuntu3) ...\n",
      "Selecting previously unselected package libgraphite2-3:amd64.\n",
      "Preparing to unpack .../049-libgraphite2-3_1.3.13-11build1_amd64.deb ...\n",
      "Unpacking libgraphite2-3:amd64 (1.3.13-11build1) ...\n",
      "Selecting previously unselected package libharfbuzz0b:amd64.\n",
      "Preparing to unpack .../050-libharfbuzz0b_2.6.4-1ubuntu4_amd64.deb ...\n",
      "Unpacking libharfbuzz0b:amd64 (2.6.4-1ubuntu4) ...\n",
      "Selecting previously unselected package libthai-data.\n",
      "Preparing to unpack .../051-libthai-data_0.1.28-3_all.deb ...\n",
      "Unpacking libthai-data (0.1.28-3) ...\n",
      "Selecting previously unselected package libdatrie1:amd64.\n",
      "Preparing to unpack .../052-libdatrie1_0.2.12-3_amd64.deb ...\n",
      "Unpacking libdatrie1:amd64 (0.2.12-3) ...\n",
      "Selecting previously unselected package libthai0:amd64.\n",
      "Preparing to unpack .../053-libthai0_0.1.28-3_amd64.deb ...\n",
      "Unpacking libthai0:amd64 (0.1.28-3) ...\n",
      "Selecting previously unselected package libpango-1.0-0:amd64.\n",
      "Preparing to unpack .../054-libpango-1.0-0_1.44.7-2ubuntu4_amd64.deb ...\n",
      "Unpacking libpango-1.0-0:amd64 (1.44.7-2ubuntu4) ...\n",
      "Selecting previously unselected package libpangoft2-1.0-0:amd64.\n",
      "Preparing to unpack .../055-libpangoft2-1.0-0_1.44.7-2ubuntu4_amd64.deb ...\n",
      "Unpacking libpangoft2-1.0-0:amd64 (1.44.7-2ubuntu4) ...\n",
      "Selecting previously unselected package libpangocairo-1.0-0:amd64.\n",
      "Preparing to unpack .../056-libpangocairo-1.0-0_1.44.7-2ubuntu4_amd64.deb ...\n",
      "Unpacking libpangocairo-1.0-0:amd64 (1.44.7-2ubuntu4) ...\n",
      "Selecting previously unselected package librsvg2-2:amd64.\n",
      "Preparing to unpack .../057-librsvg2-2_2.48.9-1ubuntu0.20.04.1_amd64.deb ...\n",
      "Unpacking librsvg2-2:amd64 (2.48.9-1ubuntu0.20.04.1) ...\n",
      "Selecting previously unselected package libshine3:amd64.\n",
      "Preparing to unpack .../058-libshine3_3.1.1-2_amd64.deb ...\n",
      "Unpacking libshine3:amd64 (3.1.1-2) ...\n",
      "Selecting previously unselected package libsnappy1v5:amd64.\n",
      "Preparing to unpack .../059-libsnappy1v5_1.1.8-1build1_amd64.deb ...\n",
      "Unpacking libsnappy1v5:amd64 (1.1.8-1build1) ...\n",
      "Selecting previously unselected package libspeex1:amd64.\n",
      "Preparing to unpack .../060-libspeex1_1.2~rc1.2-1.1ubuntu1.20.04.1_amd64.deb ...\n",
      "Unpacking libspeex1:amd64 (1.2~rc1.2-1.1ubuntu1.20.04.1) ...\n",
      "Selecting previously unselected package libsoxr0:amd64.\n",
      "Preparing to unpack .../061-libsoxr0_0.1.3-2build1_amd64.deb ...\n",
      "Unpacking libsoxr0:amd64 (0.1.3-2build1) ...\n",
      "Selecting previously unselected package libswresample3:amd64.\n",
      "Preparing to unpack .../062-libswresample3_7%3a4.2.7-0ubuntu0.1_amd64.deb ...\n",
      "Unpacking libswresample3:amd64 (7:4.2.7-0ubuntu0.1) ...\n",
      "Selecting previously unselected package libtheora0:amd64.\n",
      "Preparing to unpack .../063-libtheora0_1.1.1+dfsg.1-15ubuntu2_amd64.deb ...\n",
      "Unpacking libtheora0:amd64 (1.1.1+dfsg.1-15ubuntu2) ...\n",
      "Selecting previously unselected package libtwolame0:amd64.\n",
      "Preparing to unpack .../064-libtwolame0_0.4.0-2_amd64.deb ...\n",
      "Unpacking libtwolame0:amd64 (0.4.0-2) ...\n",
      "Selecting previously unselected package libvorbisenc2:amd64.\n",
      "Preparing to unpack .../065-libvorbisenc2_1.3.6-2ubuntu1_amd64.deb ...\n",
      "Unpacking libvorbisenc2:amd64 (1.3.6-2ubuntu1) ...\n",
      "Selecting previously unselected package libvpx6:amd64.\n",
      "Preparing to unpack .../066-libvpx6_1.8.2-1build1_amd64.deb ...\n",
      "Unpacking libvpx6:amd64 (1.8.2-1build1) ...\n",
      "Selecting previously unselected package libwavpack1:amd64.\n",
      "Preparing to unpack .../067-libwavpack1_5.2.0-1ubuntu0.1_amd64.deb ...\n",
      "Unpacking libwavpack1:amd64 (5.2.0-1ubuntu0.1) ...\n",
      "Selecting previously unselected package libwebpmux3:amd64.\n",
      "Preparing to unpack .../068-libwebpmux3_0.6.1-2ubuntu0.20.04.1_amd64.deb ...\n",
      "Unpacking libwebpmux3:amd64 (0.6.1-2ubuntu0.20.04.1) ...\n",
      "Selecting previously unselected package libx264-155:amd64.\n",
      "Preparing to unpack .../069-libx264-155_2%3a0.155.2917+git0a84d98-2_amd64.deb ...\n",
      "Unpacking libx264-155:amd64 (2:0.155.2917+git0a84d98-2) ...\n",
      "Selecting previously unselected package libx265-179:amd64.\n",
      "Preparing to unpack .../070-libx265-179_3.2.1-1build1_amd64.deb ...\n",
      "Unpacking libx265-179:amd64 (3.2.1-1build1) ...\n",
      "Selecting previously unselected package libxvidcore4:amd64.\n",
      "Preparing to unpack .../071-libxvidcore4_2%3a1.3.7-1_amd64.deb ...\n",
      "Unpacking libxvidcore4:amd64 (2:1.3.7-1) ...\n",
      "Selecting previously unselected package libzvbi-common.\n",
      "Preparing to unpack .../072-libzvbi-common_0.2.35-17_all.deb ...\n",
      "Unpacking libzvbi-common (0.2.35-17) ...\n",
      "Selecting previously unselected package libzvbi0:amd64.\n",
      "Preparing to unpack .../073-libzvbi0_0.2.35-17_amd64.deb ...\n",
      "Unpacking libzvbi0:amd64 (0.2.35-17) ...\n",
      "Selecting previously unselected package libavcodec58:amd64.\n",
      "Preparing to unpack .../074-libavcodec58_7%3a4.2.7-0ubuntu0.1_amd64.deb ...\n",
      "Unpacking libavcodec58:amd64 (7:4.2.7-0ubuntu0.1) ...\n",
      "Selecting previously unselected package libraw1394-11:amd64.\n",
      "Preparing to unpack .../075-libraw1394-11_2.1.2-1_amd64.deb ...\n",
      "Unpacking libraw1394-11:amd64 (2.1.2-1) ...\n",
      "Selecting previously unselected package libavc1394-0:amd64.\n",
      "Preparing to unpack .../076-libavc1394-0_0.5.4-5_amd64.deb ...\n",
      "Unpacking libavc1394-0:amd64 (0.5.4-5) ...\n",
      "Selecting previously unselected package libass9:amd64.\n",
      "Preparing to unpack .../077-libass9_1%3a0.14.0-2_amd64.deb ...\n",
      "Unpacking libass9:amd64 (1:0.14.0-2) ...\n",
      "Selecting previously unselected package libbluray2:amd64.\n",
      "Preparing to unpack .../078-libbluray2_1%3a1.2.0-1_amd64.deb ...\n",
      "Unpacking libbluray2:amd64 (1:1.2.0-1) ...\n",
      "Selecting previously unselected package libchromaprint1:amd64.\n",
      "Preparing to unpack .../079-libchromaprint1_1.4.3-3build1_amd64.deb ...\n",
      "Unpacking libchromaprint1:amd64 (1.4.3-3build1) ...\n",
      "Selecting previously unselected package libgme0:amd64.\n",
      "Preparing to unpack .../080-libgme0_0.6.2-1build1_amd64.deb ...\n",
      "Unpacking libgme0:amd64 (0.6.2-1build1) ...\n",
      "Selecting previously unselected package libmpg123-0:amd64.\n",
      "Preparing to unpack .../081-libmpg123-0_1.25.13-1_amd64.deb ...\n",
      "Unpacking libmpg123-0:amd64 (1.25.13-1) ...\n",
      "Selecting previously unselected package libopenmpt0:amd64.\n",
      "Preparing to unpack .../082-libopenmpt0_0.4.11-1build1_amd64.deb ...\n",
      "Unpacking libopenmpt0:amd64 (0.4.11-1build1) ...\n",
      "Selecting previously unselected package libssh-gcrypt-4:amd64.\n",
      "Preparing to unpack .../083-libssh-gcrypt-4_0.9.3-2ubuntu2.2_amd64.deb ...\n",
      "Unpacking libssh-gcrypt-4:amd64 (0.9.3-2ubuntu2.2) ...\n",
      "Selecting previously unselected package libavformat58:amd64.\n",
      "Preparing to unpack .../084-libavformat58_7%3a4.2.7-0ubuntu0.1_amd64.deb ...\n",
      "Unpacking libavformat58:amd64 (7:4.2.7-0ubuntu0.1) ...\n",
      "Selecting previously unselected package libbs2b0:amd64.\n",
      "Preparing to unpack .../085-libbs2b0_3.1.0+dfsg-2.2build1_amd64.deb ...\n",
      "Unpacking libbs2b0:amd64 (3.1.0+dfsg-2.2build1) ...\n",
      "Selecting previously unselected package libflite1:amd64.\n",
      "Preparing to unpack .../086-libflite1_2.1-release-3_amd64.deb ...\n",
      "Unpacking libflite1:amd64 (2.1-release-3) ...\n",
      "Selecting previously unselected package libserd-0-0:amd64.\n",
      "Preparing to unpack .../087-libserd-0-0_0.30.2-1_amd64.deb ...\n",
      "Unpacking libserd-0-0:amd64 (0.30.2-1) ...\n",
      "Selecting previously unselected package libsord-0-0:amd64.\n",
      "Preparing to unpack .../088-libsord-0-0_0.16.4-1_amd64.deb ...\n",
      "Unpacking libsord-0-0:amd64 (0.16.4-1) ...\n",
      "Selecting previously unselected package libsratom-0-0:amd64.\n",
      "Preparing to unpack .../089-libsratom-0-0_0.6.4-1_amd64.deb ...\n",
      "Unpacking libsratom-0-0:amd64 (0.6.4-1) ...\n",
      "Selecting previously unselected package liblilv-0-0:amd64.\n",
      "Preparing to unpack .../090-liblilv-0-0_0.24.6-1ubuntu0.1_amd64.deb ...\n",
      "Unpacking liblilv-0-0:amd64 (0.24.6-1ubuntu0.1) ...\n",
      "Selecting previously unselected package libmysofa1:amd64.\n",
      "Preparing to unpack .../091-libmysofa1_1.0~dfsg0-1_amd64.deb ...\n",
      "Unpacking libmysofa1:amd64 (1.0~dfsg0-1) ...\n",
      "Selecting previously unselected package libpostproc55:amd64.\n",
      "Preparing to unpack .../092-libpostproc55_7%3a4.2.7-0ubuntu0.1_amd64.deb ...\n",
      "Unpacking libpostproc55:amd64 (7:4.2.7-0ubuntu0.1) ...\n",
      "Selecting previously unselected package libfftw3-double3:amd64.\n",
      "Preparing to unpack .../093-libfftw3-double3_3.3.8-2ubuntu1_amd64.deb ...\n",
      "Unpacking libfftw3-double3:amd64 (3.3.8-2ubuntu1) ...\n",
      "Selecting previously unselected package libsamplerate0:amd64.\n",
      "Preparing to unpack .../094-libsamplerate0_0.1.9-2_amd64.deb ...\n",
      "Unpacking libsamplerate0:amd64 (0.1.9-2) ...\n",
      "Selecting previously unselected package librubberband2:amd64.\n",
      "Preparing to unpack .../095-librubberband2_1.8.2-1build1_amd64.deb ...\n",
      "Unpacking librubberband2:amd64 (1.8.2-1build1) ...\n",
      "Selecting previously unselected package libswscale5:amd64.\n",
      "Preparing to unpack .../096-libswscale5_7%3a4.2.7-0ubuntu0.1_amd64.deb ...\n",
      "Unpacking libswscale5:amd64 (7:4.2.7-0ubuntu0.1) ...\n",
      "Selecting previously unselected package libvidstab1.1:amd64.\n",
      "Preparing to unpack .../097-libvidstab1.1_1.1.0-2_amd64.deb ...\n",
      "Unpacking libvidstab1.1:amd64 (1.1.0-2) ...\n",
      "Selecting previously unselected package libnorm1:amd64.\n",
      "Preparing to unpack .../098-libnorm1_1.5.8+dfsg2-2build1_amd64.deb ...\n",
      "Unpacking libnorm1:amd64 (1.5.8+dfsg2-2build1) ...\n",
      "Selecting previously unselected package libpgm-5.2-0:amd64.\n",
      "Preparing to unpack .../099-libpgm-5.2-0_5.2.122~dfsg-3ubuntu1_amd64.deb ...\n",
      "Unpacking libpgm-5.2-0:amd64 (5.2.122~dfsg-3ubuntu1) ...\n",
      "Selecting previously unselected package libzmq5:amd64.\n",
      "Preparing to unpack .../100-libzmq5_4.3.2-2ubuntu1_amd64.deb ...\n",
      "Unpacking libzmq5:amd64 (4.3.2-2ubuntu1) ...\n",
      "Selecting previously unselected package libavfilter7:amd64.\n",
      "Preparing to unpack .../101-libavfilter7_7%3a4.2.7-0ubuntu0.1_amd64.deb ...\n",
      "Unpacking libavfilter7:amd64 (7:4.2.7-0ubuntu0.1) ...\n",
      "Selecting previously unselected package libcaca0:amd64.\n",
      "Preparing to unpack .../102-libcaca0_0.99.beta19-2.1ubuntu1.20.04.2_amd64.deb ...\n",
      "Unpacking libcaca0:amd64 (0.99.beta19-2.1ubuntu1.20.04.2) ...\n",
      "Selecting previously unselected package libcdio18:amd64.\n",
      "Preparing to unpack .../103-libcdio18_2.0.0-2_amd64.deb ...\n",
      "Unpacking libcdio18:amd64 (2.0.0-2) ...\n",
      "Selecting previously unselected package libcdio-cdda2:amd64.\n",
      "Preparing to unpack .../104-libcdio-cdda2_10.2+2.0.0-1_amd64.deb ...\n",
      "Unpacking libcdio-cdda2:amd64 (10.2+2.0.0-1) ...\n",
      "Selecting previously unselected package libcdio-paranoia2:amd64.\n",
      "Preparing to unpack .../105-libcdio-paranoia2_10.2+2.0.0-1_amd64.deb ...\n",
      "Unpacking libcdio-paranoia2:amd64 (10.2+2.0.0-1) ...\n",
      "Selecting previously unselected package libdc1394-22:amd64.\n",
      "Preparing to unpack .../106-libdc1394-22_2.2.5-2.1_amd64.deb ...\n",
      "Unpacking libdc1394-22:amd64 (2.2.5-2.1) ...\n",
      "Selecting previously unselected package libglvnd0:amd64.\n",
      "Preparing to unpack .../107-libglvnd0_1.3.2-1~ubuntu0.20.04.2_amd64.deb ...\n",
      "Unpacking libglvnd0:amd64 (1.3.2-1~ubuntu0.20.04.2) ...\n",
      "Selecting previously unselected package libglapi-mesa:amd64.\n",
      "Preparing to unpack .../108-libglapi-mesa_21.2.6-0ubuntu0.1~20.04.2_amd64.deb ...\n",
      "Unpacking libglapi-mesa:amd64 (21.2.6-0ubuntu0.1~20.04.2) ...\n",
      "Selecting previously unselected package libx11-xcb1:amd64.\n",
      "Preparing to unpack .../109-libx11-xcb1_2%3a1.6.9-2ubuntu1.2_amd64.deb ...\n",
      "Unpacking libx11-xcb1:amd64 (2:1.6.9-2ubuntu1.2) ...\n",
      "Selecting previously unselected package libxcb-dri2-0:amd64.\n",
      "Preparing to unpack .../110-libxcb-dri2-0_1.14-2_amd64.deb ...\n",
      "Unpacking libxcb-dri2-0:amd64 (1.14-2) ...\n",
      "Selecting previously unselected package libxcb-dri3-0:amd64.\n",
      "Preparing to unpack .../111-libxcb-dri3-0_1.14-2_amd64.deb ...\n",
      "Unpacking libxcb-dri3-0:amd64 (1.14-2) ...\n",
      "Selecting previously unselected package libxcb-glx0:amd64.\n",
      "Preparing to unpack .../112-libxcb-glx0_1.14-2_amd64.deb ...\n",
      "Unpacking libxcb-glx0:amd64 (1.14-2) ...\n",
      "Selecting previously unselected package libxcb-present0:amd64.\n",
      "Preparing to unpack .../113-libxcb-present0_1.14-2_amd64.deb ...\n",
      "Unpacking libxcb-present0:amd64 (1.14-2) ...\n",
      "Selecting previously unselected package libxcb-sync1:amd64.\n",
      "Preparing to unpack .../114-libxcb-sync1_1.14-2_amd64.deb ...\n",
      "Unpacking libxcb-sync1:amd64 (1.14-2) ...\n",
      "Selecting previously unselected package libxcb-xfixes0:amd64.\n",
      "Preparing to unpack .../115-libxcb-xfixes0_1.14-2_amd64.deb ...\n",
      "Unpacking libxcb-xfixes0:amd64 (1.14-2) ...\n",
      "Selecting previously unselected package libxshmfence1:amd64.\n",
      "Preparing to unpack .../116-libxshmfence1_1.3-1_amd64.deb ...\n",
      "Unpacking libxshmfence1:amd64 (1.3-1) ...\n",
      "Selecting previously unselected package libxxf86vm1:amd64.\n",
      "Preparing to unpack .../117-libxxf86vm1_1%3a1.1.4-1build1_amd64.deb ...\n",
      "Unpacking libxxf86vm1:amd64 (1:1.1.4-1build1) ...\n",
      "Selecting previously unselected package libdrm-amdgpu1:amd64.\n",
      "Preparing to unpack .../118-libdrm-amdgpu1_2.4.107-8ubuntu1~20.04.2_amd64.deb ...\n",
      "Unpacking libdrm-amdgpu1:amd64 (2.4.107-8ubuntu1~20.04.2) ...\n",
      "Selecting previously unselected package libpciaccess0:amd64.\n",
      "Preparing to unpack .../119-libpciaccess0_0.16-0ubuntu1_amd64.deb ...\n",
      "Unpacking libpciaccess0:amd64 (0.16-0ubuntu1) ...\n",
      "Selecting previously unselected package libdrm-intel1:amd64.\n",
      "Preparing to unpack .../120-libdrm-intel1_2.4.107-8ubuntu1~20.04.2_amd64.deb ...\n",
      "Unpacking libdrm-intel1:amd64 (2.4.107-8ubuntu1~20.04.2) ...\n",
      "Selecting previously unselected package libdrm-nouveau2:amd64.\n",
      "Preparing to unpack .../121-libdrm-nouveau2_2.4.107-8ubuntu1~20.04.2_amd64.deb ...\n",
      "Unpacking libdrm-nouveau2:amd64 (2.4.107-8ubuntu1~20.04.2) ...\n",
      "Selecting previously unselected package libdrm-radeon1:amd64.\n",
      "Preparing to unpack .../122-libdrm-radeon1_2.4.107-8ubuntu1~20.04.2_amd64.deb ...\n",
      "Unpacking libdrm-radeon1:amd64 (2.4.107-8ubuntu1~20.04.2) ...\n",
      "Selecting previously unselected package libllvm12:amd64.\n",
      "Preparing to unpack .../123-libllvm12_1%3a12.0.0-3ubuntu1~20.04.5_amd64.deb ...\n",
      "Unpacking libllvm12:amd64 (1:12.0.0-3ubuntu1~20.04.5) ...\n",
      "Selecting previously unselected package libsensors-config.\n",
      "Preparing to unpack .../124-libsensors-config_1%3a3.6.0-2ubuntu1.1_all.deb ...\n",
      "Unpacking libsensors-config (1:3.6.0-2ubuntu1.1) ...\n",
      "Selecting previously unselected package libsensors5:amd64.\n",
      "Preparing to unpack .../125-libsensors5_1%3a3.6.0-2ubuntu1.1_amd64.deb ...\n",
      "Unpacking libsensors5:amd64 (1:3.6.0-2ubuntu1.1) ...\n",
      "Selecting previously unselected package libvulkan1:amd64.\n",
      "Preparing to unpack .../126-libvulkan1_1.2.131.2-1_amd64.deb ...\n",
      "Unpacking libvulkan1:amd64 (1.2.131.2-1) ...\n",
      "Selecting previously unselected package libgl1-mesa-dri:amd64.\n",
      "Preparing to unpack .../127-libgl1-mesa-dri_21.2.6-0ubuntu0.1~20.04.2_amd64.deb ...\n",
      "Unpacking libgl1-mesa-dri:amd64 (21.2.6-0ubuntu0.1~20.04.2) ...\n",
      "Selecting previously unselected package libglx-mesa0:amd64.\n",
      "Preparing to unpack .../128-libglx-mesa0_21.2.6-0ubuntu0.1~20.04.2_amd64.deb ...\n",
      "Unpacking libglx-mesa0:amd64 (21.2.6-0ubuntu0.1~20.04.2) ...\n",
      "Selecting previously unselected package libglx0:amd64.\n",
      "Preparing to unpack .../129-libglx0_1.3.2-1~ubuntu0.20.04.2_amd64.deb ...\n",
      "Unpacking libglx0:amd64 (1.3.2-1~ubuntu0.20.04.2) ...\n",
      "Selecting previously unselected package libgl1:amd64.\n",
      "Preparing to unpack .../130-libgl1_1.3.2-1~ubuntu0.20.04.2_amd64.deb ...\n",
      "Unpacking libgl1:amd64 (1.3.2-1~ubuntu0.20.04.2) ...\n",
      "Selecting previously unselected package libiec61883-0:amd64.\n",
      "Preparing to unpack .../131-libiec61883-0_1.2.0-3_amd64.deb ...\n",
      "Unpacking libiec61883-0:amd64 (1.2.0-3) ...\n",
      "Selecting previously unselected package libjack-jackd2-0:amd64.\n",
      "Preparing to unpack .../132-libjack-jackd2-0_1.9.12~dfsg-2ubuntu2_amd64.deb ...\n",
      "Unpacking libjack-jackd2-0:amd64 (1.9.12~dfsg-2ubuntu2) ...\n",
      "Selecting previously unselected package libopenal-data.\n",
      "Preparing to unpack .../133-libopenal-data_1%3a1.19.1-1_all.deb ...\n",
      "Unpacking libopenal-data (1:1.19.1-1) ...\n",
      "Selecting previously unselected package libsndio7.0:amd64.\n",
      "Preparing to unpack .../134-libsndio7.0_1.5.0-3_amd64.deb ...\n",
      "Unpacking libsndio7.0:amd64 (1.5.0-3) ...\n",
      "Selecting previously unselected package libopenal1:amd64.\n",
      "Preparing to unpack .../135-libopenal1_1%3a1.19.1-1_amd64.deb ...\n",
      "Unpacking libopenal1:amd64 (1:1.19.1-1) ...\n",
      "Selecting previously unselected package libasyncns0:amd64.\n",
      "Preparing to unpack .../136-libasyncns0_0.8-6_amd64.deb ...\n",
      "Unpacking libasyncns0:amd64 (0.8-6) ...\n",
      "Selecting previously unselected package libflac8:amd64.\n",
      "Preparing to unpack .../137-libflac8_1.3.3-1build1_amd64.deb ...\n",
      "Unpacking libflac8:amd64 (1.3.3-1build1) ...\n",
      "Selecting previously unselected package libsndfile1:amd64.\n",
      "Preparing to unpack .../138-libsndfile1_1.0.28-7ubuntu0.1_amd64.deb ...\n",
      "Unpacking libsndfile1:amd64 (1.0.28-7ubuntu0.1) ...\n",
      "Selecting previously unselected package libwrap0:amd64.\n",
      "Preparing to unpack .../139-libwrap0_7.6.q-30_amd64.deb ...\n",
      "Unpacking libwrap0:amd64 (7.6.q-30) ...\n",
      "Selecting previously unselected package libpulse0:amd64.\n",
      "Preparing to unpack .../140-libpulse0_1%3a13.99.1-1ubuntu3.13_amd64.deb ...\n",
      "Unpacking libpulse0:amd64 (1:13.99.1-1ubuntu3.13) ...\n",
      "Selecting previously unselected package libwayland-client0:amd64.\n",
      "Preparing to unpack .../141-libwayland-client0_1.18.0-1_amd64.deb ...\n",
      "Unpacking libwayland-client0:amd64 (1.18.0-1) ...\n",
      "Selecting previously unselected package libwayland-cursor0:amd64.\n",
      "Preparing to unpack .../142-libwayland-cursor0_1.18.0-1_amd64.deb ...\n",
      "Unpacking libwayland-cursor0:amd64 (1.18.0-1) ...\n",
      "Selecting previously unselected package libwayland-egl1:amd64.\n",
      "Preparing to unpack .../143-libwayland-egl1_1.18.0-1_amd64.deb ...\n",
      "Unpacking libwayland-egl1:amd64 (1.18.0-1) ...\n",
      "Selecting previously unselected package libxcursor1:amd64.\n",
      "Preparing to unpack .../144-libxcursor1_1%3a1.2.0-2_amd64.deb ...\n",
      "Unpacking libxcursor1:amd64 (1:1.2.0-2) ...\n",
      "Selecting previously unselected package libxi6:amd64.\n",
      "Preparing to unpack .../145-libxi6_2%3a1.7.10-0ubuntu1_amd64.deb ...\n",
      "Unpacking libxi6:amd64 (2:1.7.10-0ubuntu1) ...\n",
      "Selecting previously unselected package libxinerama1:amd64.\n",
      "Preparing to unpack .../146-libxinerama1_2%3a1.1.4-2_amd64.deb ...\n",
      "Unpacking libxinerama1:amd64 (2:1.1.4-2) ...\n",
      "Selecting previously unselected package libxkbcommon0:amd64.\n",
      "Preparing to unpack .../147-libxkbcommon0_0.10.0-1_amd64.deb ...\n",
      "Unpacking libxkbcommon0:amd64 (0.10.0-1) ...\n",
      "Selecting previously unselected package libxrandr2:amd64.\n",
      "Preparing to unpack .../148-libxrandr2_2%3a1.5.2-0ubuntu1_amd64.deb ...\n",
      "Unpacking libxrandr2:amd64 (2:1.5.2-0ubuntu1) ...\n",
      "Selecting previously unselected package x11-common.\n",
      "Preparing to unpack .../149-x11-common_1%3a7.7+19ubuntu14_all.deb ...\n",
      "dpkg-query: no packages found matching nux-tools\n",
      "Unpacking x11-common (1:7.7+19ubuntu14) ...\n",
      "Selecting previously unselected package libxss1:amd64.\n",
      "Preparing to unpack .../150-libxss1_1%3a1.2.3-1_amd64.deb ...\n",
      "Unpacking libxss1:amd64 (1:1.2.3-1) ...\n",
      "Selecting previously unselected package libsdl2-2.0-0:amd64.\n",
      "Preparing to unpack .../151-libsdl2-2.0-0_2.0.10+dfsg1-3_amd64.deb ...\n",
      "Unpacking libsdl2-2.0-0:amd64 (2.0.10+dfsg1-3) ...\n",
      "Selecting previously unselected package libxcb-shape0:amd64.\n",
      "Preparing to unpack .../152-libxcb-shape0_1.14-2_amd64.deb ...\n",
      "Unpacking libxcb-shape0:amd64 (1.14-2) ...\n",
      "Selecting previously unselected package libxv1:amd64.\n",
      "Preparing to unpack .../153-libxv1_2%3a1.0.11-1_amd64.deb ...\n",
      "Unpacking libxv1:amd64 (2:1.0.11-1) ...\n",
      "Selecting previously unselected package libavdevice58:amd64.\n",
      "Preparing to unpack .../154-libavdevice58_7%3a4.2.7-0ubuntu0.1_amd64.deb ...\n",
      "Unpacking libavdevice58:amd64 (7:4.2.7-0ubuntu0.1) ...\n",
      "Selecting previously unselected package libavresample4:amd64.\n",
      "Preparing to unpack .../155-libavresample4_7%3a4.2.7-0ubuntu0.1_amd64.deb ...\n",
      "Unpacking libavresample4:amd64 (7:4.2.7-0ubuntu0.1) ...\n",
      "Selecting previously unselected package ffmpeg.\n",
      "Preparing to unpack .../156-ffmpeg_7%3a4.2.7-0ubuntu0.1_amd64.deb ...\n",
      "Unpacking ffmpeg (7:4.2.7-0ubuntu0.1) ...\n",
      "Selecting previously unselected package libigdgmm11:amd64.\n",
      "Preparing to unpack .../157-libigdgmm11_20.1.1+ds1-1_amd64.deb ...\n",
      "Unpacking libigdgmm11:amd64 (20.1.1+ds1-1) ...\n",
      "Selecting previously unselected package intel-media-va-driver:amd64.\n",
      "Preparing to unpack .../158-intel-media-va-driver_20.1.1+dfsg1-1_amd64.deb ...\n",
      "Unpacking intel-media-va-driver:amd64 (20.1.1+dfsg1-1) ...\n",
      "Selecting previously unselected package libaacs0:amd64.\n",
      "Preparing to unpack .../159-libaacs0_0.9.0-2_amd64.deb ...\n",
      "Unpacking libaacs0:amd64 (0.9.0-2) ...\n",
      "Selecting previously unselected package libbdplus0:amd64.\n",
      "Preparing to unpack .../160-libbdplus0_0.1.2-3_amd64.deb ...\n",
      "Unpacking libbdplus0:amd64 (0.1.2-3) ...\n",
      "Selecting previously unselected package libgdk-pixbuf2.0-bin.\n",
      "Preparing to unpack .../161-libgdk-pixbuf2.0-bin_2.40.0+dfsg-3ubuntu0.2_amd64.deb ...\n",
      "Unpacking libgdk-pixbuf2.0-bin (2.40.0+dfsg-3ubuntu0.2) ...\n",
      "Selecting previously unselected package libice6:amd64.\n",
      "Preparing to unpack .../162-libice6_2%3a1.0.10-0ubuntu1_amd64.deb ...\n",
      "Unpacking libice6:amd64 (2:1.0.10-0ubuntu1) ...\n",
      "Selecting previously unselected package librsvg2-common:amd64.\n",
      "Preparing to unpack .../163-librsvg2-common_2.48.9-1ubuntu0.20.04.1_amd64.deb ...\n",
      "Unpacking librsvg2-common:amd64 (2.48.9-1ubuntu0.20.04.1) ...\n",
      "Selecting previously unselected package libsm6:amd64.\n",
      "Preparing to unpack .../164-libsm6_2%3a1.2.3-1_amd64.deb ...\n",
      "Unpacking libsm6:amd64 (2:1.2.3-1) ...\n",
      "Selecting previously unselected package libxcb-randr0:amd64.\n",
      "Preparing to unpack .../165-libxcb-randr0_1.14-2_amd64.deb ...\n",
      "Unpacking libxcb-randr0:amd64 (1.14-2) ...\n",
      "Selecting previously unselected package mesa-va-drivers:amd64.\n",
      "Preparing to unpack .../166-mesa-va-drivers_21.2.6-0ubuntu0.1~20.04.2_amd64.deb ...\n",
      "Unpacking mesa-va-drivers:amd64 (21.2.6-0ubuntu0.1~20.04.2) ...\n",
      "Selecting previously unselected package mesa-vdpau-drivers:amd64.\n",
      "Preparing to unpack .../167-mesa-vdpau-drivers_21.2.6-0ubuntu0.1~20.04.2_amd64.deb ...\n",
      "Unpacking mesa-vdpau-drivers:amd64 (21.2.6-0ubuntu0.1~20.04.2) ...\n",
      "Selecting previously unselected package mesa-vulkan-drivers:amd64.\n",
      "Preparing to unpack .../168-mesa-vulkan-drivers_21.2.6-0ubuntu0.1~20.04.2_amd64.deb ...\n",
      "Unpacking mesa-vulkan-drivers:amd64 (21.2.6-0ubuntu0.1~20.04.2) ...\n",
      "Selecting previously unselected package i965-va-driver:amd64.\n",
      "Preparing to unpack .../169-i965-va-driver_2.4.0-0ubuntu1_amd64.deb ...\n",
      "Unpacking i965-va-driver:amd64 (2.4.0-0ubuntu1) ...\n",
      "Selecting previously unselected package va-driver-all:amd64.\n",
      "Preparing to unpack .../170-va-driver-all_2.7.0-2_amd64.deb ...\n",
      "Unpacking va-driver-all:amd64 (2.7.0-2) ...\n",
      "Selecting previously unselected package vdpau-driver-all:amd64.\n",
      "Preparing to unpack .../171-vdpau-driver-all_1.3-1ubuntu2_amd64.deb ...\n",
      "Unpacking vdpau-driver-all:amd64 (1.3-1ubuntu2) ...\n",
      "Setting up libgme0:amd64 (0.6.2-1build1) ...\n",
      "Setting up libssh-gcrypt-4:amd64 (0.9.3-2ubuntu2.2) ...\n",
      "Setting up libgraphite2-3:amd64 (1.3.13-11build1) ...\n",
      "Setting up libpixman-1-0:amd64 (0.38.4-0ubuntu1) ...\n",
      "Setting up libx11-xcb1:amd64 (2:1.6.9-2ubuntu1.2) ...\n",
      "Setting up libpciaccess0:amd64 (0.16-0ubuntu1) ...\n",
      "Setting up libxau6:amd64 (1:1.0.9-0ubuntu1) ...\n",
      "Setting up libxdmcp6:amd64 (1:1.1.3-0ubuntu1) ...\n",
      "Setting up libraw1394-11:amd64 (2.1.2-1) ...\n",
      "Setting up libapparmor1:amd64 (2.13.3-7ubuntu5.1) ...\n",
      "Setting up libxcb1:amd64 (1.14-2) ...\n",
      "Setting up libsodium23:amd64 (1.0.18-1) ...\n",
      "Setting up libmpg123-0:amd64 (1.25.13-1) ...\n",
      "Setting up libxcb-xfixes0:amd64 (1.14-2) ...\n",
      "Setting up libspeex1:amd64 (1.2~rc1.2-1.1ubuntu1.20.04.1) ...\n",
      "Setting up libshine3:amd64 (3.1.1-2) ...\n",
      "Setting up libtwolame0:amd64 (0.4.0-2) ...\n",
      "Setting up libdatrie1:amd64 (0.2.12-3) ...\n",
      "Setting up libgsm1:amd64 (1.0.18-2) ...\n",
      "Setting up libx264-155:amd64 (2:0.155.2917+git0a84d98-2) ...\n",
      "Setting up libx265-179:amd64 (3.2.1-1build1) ...\n",
      "Setting up libxcb-render0:amd64 (1.14-2) ...\n",
      "Setting up libsoxr0:amd64 (0.1.3-2build1) ...\n",
      "Setting up libglvnd0:amd64 (1.3.2-1~ubuntu0.20.04.2) ...\n",
      "Setting up libxcb-glx0:amd64 (1.14-2) ...\n",
      "Setting up libaom0:amd64 (1.0.0.errata1-3build1) ...\n",
      "Setting up libgdk-pixbuf2.0-common (2.40.0+dfsg-3ubuntu0.2) ...\n",
      "Setting up libnorm1:amd64 (1.5.8+dfsg2-2build1) ...\n",
      "Setting up libmysofa1:amd64 (1.0~dfsg0-1) ...\n",
      "Setting up libxcb-shape0:amd64 (1.14-2) ...\n",
      "Setting up x11-common (1:7.7+19ubuntu14) ...\n",
      "debconf: unable to initialize frontend: Dialog\n",
      "debconf: (No usable dialog-like program is installed, so the dialog based frontend cannot be used. at /usr/share/perl5/Debconf/FrontEnd/Dialog.pm line 76.)\n",
      "debconf: falling back to frontend: Readline\n",
      "update-rc.d: warning: start and stop actions are no longer supported; falling back to defaults\n",
      "invoke-rc.d: could not determine current runlevel\n",
      "invoke-rc.d: policy-rc.d denied execution of start.\n",
      "Setting up libsensors-config (1:3.6.0-2ubuntu1.1) ...\n",
      "Setting up libcdio18:amd64 (2.0.0-2) ...\n",
      "Setting up xkb-data (2.29-2) ...\n",
      "Setting up libxcb-shm0:amd64 (1.14-2) ...\n",
      "Setting up libxvidcore4:amd64 (2:1.3.7-1) ...\n",
      "Setting up libjbig0:amd64 (2.1-3.1build1) ...\n",
      "Setting up libsnappy1v5:amd64 (1.1.8-1build1) ...\n",
      "Setting up libflac8:amd64 (1.3.3-1build1) ...\n",
      "Setting up libxcb-present0:amd64 (1.14-2) ...\n",
      "Setting up libslang2:amd64 (2.3.2-4) ...\n",
      "Setting up libva2:amd64 (2.7.0-2) ...\n",
      "Setting up libwrap0:amd64 (7.6.q-30) ...\n",
      "Setting up libigdgmm11:amd64 (20.1.1+ds1-1) ...\n",
      "Setting up libx11-data (2:1.6.9-2ubuntu1.2) ...\n",
      "Setting up libxcb-sync1:amd64 (1.14-2) ...\n",
      "Setting up libcodec2-0.9:amd64 (0.9.2-2) ...\n",
      "Setting up libllvm12:amd64 (1:12.0.0-3ubuntu1~20.04.5) ...\n",
      "Setting up libdbus-1-3:amd64 (1.12.16-2ubuntu2.2) ...\n",
      "Setting up dbus (1.12.16-2ubuntu2.2) ...\n",
      "Setting up libfribidi0:amd64 (1.0.8-2ubuntu0.1) ...\n",
      "Setting up libopus0:amd64 (1.3.1-0ubuntu1) ...\n",
      "Setting up shared-mime-info (1.15-1) ...\n",
      "Setting up intel-media-va-driver:amd64 (20.1.1+dfsg1-1) ...\n",
      "Setting up libpng16-16:amd64 (1.6.37-2) ...\n",
      "Setting up libwebp6:amd64 (0.6.1-2ubuntu0.20.04.1) ...\n",
      "Setting up fonts-dejavu-core (2.37-1) ...\n",
      "Setting up ucf (3.0038+nmu1) ...\n",
      "debconf: unable to initialize frontend: Dialog\n",
      "debconf: (No usable dialog-like program is installed, so the dialog based frontend cannot be used. at /usr/share/perl5/Debconf/FrontEnd/Dialog.pm line 76.)\n",
      "debconf: falling back to frontend: Readline\n",
      "Setting up libsensors5:amd64 (1:3.6.0-2ubuntu1.1) ...\n",
      "Setting up libaacs0:amd64 (0.9.0-2) ...\n",
      "Setting up libfftw3-double3:amd64 (3.3.8-2ubuntu1) ...\n",
      "Setting up libglapi-mesa:amd64 (21.2.6-0ubuntu0.1~20.04.2) ...\n",
      "Setting up libvulkan1:amd64 (1.2.131.2-1) ...\n",
      "Setting up libsndio7.0:amd64 (1.5.0-3) ...\n",
      "Setting up libxcb-dri2-0:amd64 (1.14-2) ...\n",
      "Setting up libbdplus0:amd64 (0.1.2-3) ...\n",
      "Setting up libvidstab1.1:amd64 (1.1.0-2) ...\n",
      "Setting up libflite1:amd64 (2.1-release-3) ...\n",
      "Setting up ocl-icd-libopencl1:amd64 (2.2.11-1ubuntu1) ...\n",
      "Setting up libasyncns0:amd64 (0.8-6) ...\n",
      "Setting up libxshmfence1:amd64 (1.3-1) ...\n",
      "Setting up libvpx6:amd64 (1.8.2-1build1) ...\n",
      "Setting up libwavpack1:amd64 (5.2.0-1ubuntu0.1) ...\n",
      "Setting up libbs2b0:amd64 (3.1.0+dfsg-2.2build1) ...\n",
      "Setting up libxcb-randr0:amd64 (1.14-2) ...\n",
      "Setting up libopenjp2-7:amd64 (2.3.1-1ubuntu4.20.04.1) ...\n",
      "Setting up libx11-6:amd64 (2:1.6.9-2ubuntu1.2) ...\n",
      "Setting up libopenal-data (1:1.19.1-1) ...\n",
      "Setting up libthai-data (0.1.28-3) ...\n",
      "Setting up libtiff5:amd64 (4.1.0+git191117-2ubuntu0.20.04.3) ...\n",
      "Setting up libwayland-egl1:amd64 (1.18.0-1) ...\n",
      "Setting up libusb-1.0-0:amd64 (2:1.0.23-2build1) ...\n",
      "Setting up libsamplerate0:amd64 (0.1.9-2) ...\n",
      "Setting up libwebpmux3:amd64 (0.6.1-2ubuntu0.20.04.1) ...\n",
      "Setting up libdrm-common (2.4.107-8ubuntu1~20.04.2) ...\n",
      "Setting up libelf1:amd64 (0.176-1.1build1) ...\n",
      "Setting up libopenmpt0:amd64 (0.4.11-1build1) ...\n",
      "Setting up libzvbi-common (0.2.35-17) ...\n",
      "Setting up libmp3lame0:amd64 (3.100-3) ...\n",
      "Setting up libvorbisenc2:amd64 (1.3.6-2ubuntu1) ...\n",
      "Setting up libpgm-5.2-0:amd64 (5.2.122~dfsg-3ubuntu1) ...\n",
      "Setting up libiec61883-0:amd64 (1.2.0-3) ...\n",
      "Setting up libserd-0-0:amd64 (0.30.2-1) ...\n",
      "Setting up libxkbcommon0:amd64 (0.10.0-1) ...\n",
      "Setting up libwayland-client0:amd64 (1.18.0-1) ...\n",
      "Setting up libavc1394-0:amd64 (0.5.4-5) ...\n",
      "Setting up libxcb-dri3-0:amd64 (1.14-2) ...\n",
      "Setting up libzvbi0:amd64 (0.2.35-17) ...\n",
      "Setting up libice6:amd64 (2:1.0.10-0ubuntu1) ...\n",
      "Setting up libzmq5:amd64 (4.3.2-2ubuntu1) ...\n",
      "Setting up libcaca0:amd64 (0.99.beta19-2.1ubuntu1.20.04.2) ...\n",
      "Setting up libxrender1:amd64 (1:0.9.10-1) ...\n",
      "Setting up libcdio-cdda2:amd64 (10.2+2.0.0-1) ...\n",
      "Setting up fontconfig-config (2.13.1-2ubuntu3) ...\n",
      "Setting up libcdio-paranoia2:amd64 (10.2+2.0.0-1) ...\n",
      "Setting up libdc1394-22:amd64 (2.2.5-2.1) ...\n",
      "Setting up libxext6:amd64 (2:1.3.4-0ubuntu1) ...\n",
      "Setting up libopenal1:amd64 (1:1.19.1-1) ...\n",
      "Setting up libxxf86vm1:amd64 (1:1.1.4-1build1) ...\n",
      "Setting up libthai0:amd64 (0.1.28-3) ...\n",
      "Setting up libfreetype6:amd64 (2.10.1-2ubuntu0.1) ...\n",
      "Setting up libxfixes3:amd64 (1:5.0.3-2) ...\n",
      "Setting up libgdk-pixbuf2.0-0:amd64 (2.40.0+dfsg-3ubuntu0.2) ...\n",
      "Setting up libxinerama1:amd64 (2:1.1.4-2) ...\n",
      "Setting up libxv1:amd64 (2:1.0.11-1) ...\n",
      "Setting up libxrandr2:amd64 (2:1.5.2-0ubuntu1) ...\n",
      "Setting up librubberband2:amd64 (1.8.2-1build1) ...\n",
      "Setting up libjack-jackd2-0:amd64 (1.9.12~dfsg-2ubuntu2) ...\n",
      "Setting up libdrm2:amd64 (2.4.107-8ubuntu1~20.04.2) ...\n",
      "Setting up libva-drm2:amd64 (2.7.0-2) ...\n",
      "Setting up libgdk-pixbuf2.0-bin (2.40.0+dfsg-3ubuntu0.2) ...\n",
      "Setting up libvdpau1:amd64 (1.3-1ubuntu2) ...\n",
      "Setting up libsord-0-0:amd64 (0.16.4-1) ...\n",
      "Setting up libwayland-cursor0:amd64 (1.18.0-1) ...\n",
      "Setting up libsratom-0-0:amd64 (0.6.4-1) ...\n",
      "Setting up libharfbuzz0b:amd64 (2.6.4-1ubuntu4) ...\n",
      "Setting up libxss1:amd64 (1:1.2.3-1) ...\n",
      "Setting up libfontconfig1:amd64 (2.13.1-2ubuntu3) ...\n",
      "Setting up libsndfile1:amd64 (1.0.28-7ubuntu0.1) ...\n",
      "Setting up libbluray2:amd64 (1:1.2.0-1) ...\n",
      "Setting up libva-x11-2:amd64 (2.7.0-2) ...\n",
      "Setting up libsm6:amd64 (2:1.2.3-1) ...\n",
      "Setting up liblilv-0-0:amd64 (0.24.6-1ubuntu0.1) ...\n",
      "Setting up libdrm-amdgpu1:amd64 (2.4.107-8ubuntu1~20.04.2) ...\n",
      "Setting up mesa-vulkan-drivers:amd64 (21.2.6-0ubuntu0.1~20.04.2) ...\n",
      "Setting up fontconfig (2.13.1-2ubuntu3) ...\n",
      "Regenerating fonts cache... done.\n",
      "Setting up libdrm-nouveau2:amd64 (2.4.107-8ubuntu1~20.04.2) ...\n",
      "Setting up libxi6:amd64 (2:1.7.10-0ubuntu1) ...\n",
      "Setting up libpulse0:amd64 (1:13.99.1-1ubuntu3.13) ...\n",
      "Setting up libdrm-radeon1:amd64 (2.4.107-8ubuntu1~20.04.2) ...\n",
      "Setting up libxcursor1:amd64 (1:1.2.0-2) ...\n",
      "Setting up libpango-1.0-0:amd64 (1.44.7-2ubuntu4) ...\n",
      "Setting up libdrm-intel1:amd64 (2.4.107-8ubuntu1~20.04.2) ...\n",
      "Setting up libgl1-mesa-dri:amd64 (21.2.6-0ubuntu0.1~20.04.2) ...\n",
      "Setting up libcairo2:amd64 (1.16.0-4ubuntu1) ...\n",
      "Setting up libavutil56:amd64 (7:4.2.7-0ubuntu0.1) ...\n",
      "Setting up libass9:amd64 (1:0.14.0-2) ...\n",
      "Setting up libpostproc55:amd64 (7:4.2.7-0ubuntu0.1) ...\n",
      "Setting up libtheora0:amd64 (1.1.1+dfsg.1-15ubuntu2) ...\n",
      "Setting up libswscale5:amd64 (7:4.2.7-0ubuntu0.1) ...\n",
      "Setting up libcairo-gobject2:amd64 (1.16.0-4ubuntu1) ...\n",
      "Setting up mesa-va-drivers:amd64 (21.2.6-0ubuntu0.1~20.04.2) ...\n",
      "Setting up libpangoft2-1.0-0:amd64 (1.44.7-2ubuntu4) ...\n",
      "Setting up libsdl2-2.0-0:amd64 (2.0.10+dfsg1-3) ...\n",
      "Setting up i965-va-driver:amd64 (2.4.0-0ubuntu1) ...\n",
      "Setting up libpangocairo-1.0-0:amd64 (1.44.7-2ubuntu4) ...\n",
      "Setting up mesa-vdpau-drivers:amd64 (21.2.6-0ubuntu0.1~20.04.2) ...\n",
      "Setting up libglx-mesa0:amd64 (21.2.6-0ubuntu0.1~20.04.2) ...\n",
      "Setting up libglx0:amd64 (1.3.2-1~ubuntu0.20.04.2) ...\n",
      "Setting up libswresample3:amd64 (7:4.2.7-0ubuntu0.1) ...\n",
      "Setting up libavresample4:amd64 (7:4.2.7-0ubuntu0.1) ...\n",
      "Setting up librsvg2-2:amd64 (2.48.9-1ubuntu0.20.04.1) ...\n",
      "Setting up libgl1:amd64 (1.3.2-1~ubuntu0.20.04.2) ...\n",
      "Setting up va-driver-all:amd64 (2.7.0-2) ...\n",
      "Setting up librsvg2-common:amd64 (2.48.9-1ubuntu0.20.04.1) ...\n",
      "Setting up vdpau-driver-all:amd64 (1.3-1ubuntu2) ...\n",
      "Setting up libavcodec58:amd64 (7:4.2.7-0ubuntu0.1) ...\n",
      "Setting up libchromaprint1:amd64 (1.4.3-3build1) ...\n",
      "Setting up libavformat58:amd64 (7:4.2.7-0ubuntu0.1) ...\n",
      "Setting up libavfilter7:amd64 (7:4.2.7-0ubuntu0.1) ...\n",
      "Setting up libavdevice58:amd64 (7:4.2.7-0ubuntu0.1) ...\n",
      "Setting up ffmpeg (7:4.2.7-0ubuntu0.1) ...\n",
      "Processing triggers for libc-bin (2.31-0ubuntu9.2) ...\n",
      "Processing triggers for libgdk-pixbuf2.0-0:amd64 (2.40.0+dfsg-3ubuntu0.2) ...\n"
     ]
    }
   ],
   "source": [
    "# # Fix error with cv2\n",
    "# !apt-get update\n",
    "# !apt-get install ffmpeg libsm6 libxext6  -y"
   ]
  },
  {
   "cell_type": "markdown",
   "metadata": {
    "id": "3TEC_CRt_c_Z"
   },
   "source": [
    "### **Food-101 Data**"
   ]
  },
  {
   "cell_type": "code",
   "execution_count": null,
   "metadata": {
    "_uuid": "70f06e9a535b5f32ad9d927fc00e767dd72f17dd",
    "id": "JOZZbCDoP-Hy"
   },
   "outputs": [],
   "source": [
    "# Check if GPU is enabled\n",
    "# print(tf.__version__)\n",
    "# print(tf.test.gpu_device_name())"
   ]
  },
  {
   "cell_type": "code",
   "execution_count": null,
   "metadata": {
    "_uuid": "da6910e8bb064b76c17e07f0a2e0e23ebdefbbfa",
    "colab": {
     "base_uri": "https://localhost:8080/",
     "height": 1000
    },
    "executionInfo": {
     "elapsed": 12935,
     "status": "ok",
     "timestamp": 1656403029896,
     "user": {
      "displayName": "Dimitrios Gagatsis",
      "userId": "10589784086292039670"
     },
     "user_tz": -120
    },
    "id": "Jfif27Pr5KEn",
    "outputId": "1b5d2f2c-f4e2-4181-84f4-e2dc29697241"
   },
   "outputs": [],
   "source": [
    "# Visualize the data, showing one image per class from 101 classes\n",
    "rows = 17\n",
    "cols = 6\n",
    "fig, ax = plt.subplots(rows, cols, figsize=(25,25))\n",
    "fig.suptitle(\"Showing one random image from each class\", y=1.05, fontsize=24) # Adding  y=1.05, fontsize=24 helped me fix the suptitle overlapping with axes issue\n",
    "data_dir = \"/workspace/persistent/food-101/images\"\n",
    "foods_sorted = sorted(os.listdir(data_dir))\n",
    "food_id = 0\n",
    "for i in range(rows):\n",
    "  for j in range(cols):\n",
    "    try:\n",
    "      food_selected = foods_sorted[food_id] \n",
    "      food_id += 1\n",
    "    except:\n",
    "      break\n",
    "    if food_selected == '.DS_Store':\n",
    "        continue\n",
    "    food_selected_images = os.listdir(os.path.join(data_dir,food_selected)) # returns the list of all files present in each food category\n",
    "    food_selected_random = np.random.choice(food_selected_images) # picks one food item from the list as choice, takes a list and returns one random item\n",
    "    img = plt.imread(os.path.join(data_dir,food_selected, food_selected_random))\n",
    "    ax[i][j].imshow(img)\n",
    "    ax[i][j].set_title(food_selected, pad = 10)\n",
    "    \n",
    "plt.setp(ax, xticks=[],yticks=[])\n",
    "plt.tight_layout()\n",
    "# https://matplotlib.org/users/tight_layout_guide.html\n"
   ]
  },
  {
   "cell_type": "code",
   "execution_count": null,
   "metadata": {},
   "outputs": [],
   "source": [
    "%cd .."
   ]
  },
  {
   "cell_type": "code",
   "execution_count": null,
   "metadata": {},
   "outputs": [],
   "source": [
    "%pwd"
   ]
  },
  {
   "cell_type": "code",
   "execution_count": null,
   "metadata": {},
   "outputs": [],
   "source": [
    "%cd food-101"
   ]
  },
  {
   "cell_type": "code",
   "execution_count": null,
   "metadata": {},
   "outputs": [],
   "source": [
    "# Check how many files are in the train folder\n",
    "print(\"Total number of samples in train folder\")\n",
    "!find train -type f | wc -l\n",
    "print(\"\\nTotal number of samples in test folder\")\n",
    "!find test -type f | wc -l"
   ]
  },
  {
   "cell_type": "code",
   "execution_count": null,
   "metadata": {
    "_uuid": "27bf6dfb6b5c0a01efaad5de5ac90301663e84ca",
    "id": "b9i8vGHYKO-g"
   },
   "outputs": [],
   "source": [
    "# List of all 101 types of foods(sorted alphabetically)\n",
    "# del foods_sorted[0] # remove .DS_Store from the list\n",
    "\n",
    "# foods_sorted"
   ]
  },
  {
   "cell_type": "code",
   "execution_count": null,
   "metadata": {
    "_uuid": "9560f0dd98c3decf8fceed05072def71efc2462e",
    "colab": {
     "base_uri": "https://localhost:8080/"
    },
    "executionInfo": {
     "elapsed": 6,
     "status": "ok",
     "timestamp": 1656403126313,
     "user": {
      "displayName": "Dimitrios Gagatsis",
      "userId": "10589784086292039670"
     },
     "user_tz": -120
    },
    "id": "LBLq_gYD5LOm",
    "outputId": "f18872eb-b497-4f7a-f0ba-869f2cf99d98"
   },
   "outputs": [],
   "source": [
    "print(\"Total number of samples in test folder\")\n",
    "!find test_mini -type d -or -type f -printf '.' | wc -c"
   ]
  },
  {
   "cell_type": "markdown",
   "metadata": {
    "id": "3uBYnTC8I4mw"
   },
   "source": [
    "### Data Augmentation and Acc/Loss Visualization"
   ]
  },
  {
   "cell_type": "code",
   "execution_count": null,
   "metadata": {
    "colab": {
     "base_uri": "https://localhost:8080/"
    },
    "executionInfo": {
     "elapsed": 536,
     "status": "ok",
     "timestamp": 1656403126847,
     "user": {
      "displayName": "Dimitrios Gagatsis",
      "userId": "10589784086292039670"
     },
     "user_tz": -120
    },
    "id": "HC3eXlRJHMI7",
    "outputId": "15670562-8797-495c-fe51-d31a71a49d88"
   },
   "outputs": [],
   "source": [
    "K.clear_session()\n",
    "n_classes = 100\n",
    "img_width, img_height = 299, 299\n",
    "train_data_dir = 'train'\n",
    "validation_data_dir = 'test'\n",
    "nb_train_samples = 75750\n",
    "nb_validation_samples = 25250\n",
    "batch_size = 16\n",
    "\n",
    "train_datagen = ImageDataGenerator(\n",
    "    rescale=1. / 255,\n",
    "    shear_range=0.2,\n",
    "    zoom_range=0.2,\n",
    "    horizontal_flip=True)\n",
    "\n",
    "test_datagen = ImageDataGenerator(rescale=1. / 255)\n",
    "\n",
    "train_generator = train_datagen.flow_from_directory(\n",
    "    train_data_dir,\n",
    "    target_size=(img_height, img_width),\n",
    "    batch_size=batch_size,\n",
    "    class_mode='categorical')\n",
    "\n",
    "validation_generator = test_datagen.flow_from_directory(\n",
    "    validation_data_dir,\n",
    "    target_size=(img_height, img_width),\n",
    "    batch_size=batch_size,\n",
    "    class_mode='categorical')\n",
    "\n"
   ]
  },
  {
   "cell_type": "code",
   "execution_count": null,
   "metadata": {
    "id": "EpyszTY3iyyI"
   },
   "outputs": [],
   "source": [
    "# Plot Accuracy and Loss of the model\n",
    "def plot_accuracy(history,title):\n",
    "    plt.title(title)\n",
    "    plt.plot(history.history['accuracy'])\n",
    "    plt.plot(history.history['val_accuracy'])\n",
    "    plt.ylabel('accuracy')\n",
    "    plt.xlabel('epoch')\n",
    "    plt.legend(['train_accuracy', 'validation_accuracy'], loc='best')\n",
    "    plt.show()\n",
    "\n",
    "def plot_loss(history,title):\n",
    "    plt.title(title)\n",
    "    plt.plot(history.history['loss'])\n",
    "    plt.plot(history.history['val_loss'])\n",
    "    plt.ylabel('loss')\n",
    "    plt.xlabel('epoch')\n",
    "    plt.legend(['train_loss', 'validation_loss'], loc='best')\n",
    "    plt.show()\n",
    "\n",
    "def plot_Acc_and_Loss(history,title):\n",
    "    # plot model accuracy\n",
    "    plt.figure(figsize=(16,8))\n",
    "    plt.subplot(1,2,1)\n",
    "    plt.title(title)\n",
    "    plt.plot(history.history['accuracy'])\n",
    "    plt.plot(history.history['val_accuracy'])\n",
    "    plt.ylabel('accuracy')\n",
    "    plt.xlabel('epoch')\n",
    "    plt.legend(['train_accuracy', 'validation_accuracy'], loc='best')\n",
    "    # plot model loss\n",
    "    plt.subplot(1,2,2)\n",
    "    plt.title(title)\n",
    "    plt.plot(history.history['loss'])\n",
    "    plt.plot(history.history['val_loss'])\n",
    "    plt.ylabel('loss')\n",
    "    plt.xlabel('epoch')\n",
    "    plt.legend(['train_loss', 'validation_loss'], loc='best')\n",
    "    plt.show()"
   ]
  },
  {
   "cell_type": "markdown",
   "metadata": {
    "id": "s4DUFALj95De"
   },
   "source": [
    "### MODEL1: ResNet152V2"
   ]
  },
  {
   "cell_type": "code",
   "execution_count": null,
   "metadata": {
    "colab": {
     "base_uri": "https://localhost:8080/"
    },
    "executionInfo": {
     "elapsed": 7316,
     "status": "ok",
     "timestamp": 1656321527594,
     "user": {
      "displayName": "Dimitrios Gagatsis",
      "userId": "10589784086292039670"
     },
     "user_tz": -120
    },
    "id": "kMOu4KlzHL9D",
    "outputId": "6866e32c-55d6-4e8f-e678-8129c990b107"
   },
   "outputs": [],
   "source": [
    "# Get pre-trained ResNet152V2 on ImageNet without top\n",
    "resnet = tf.keras.applications.ResNet152V2(\n",
    "    include_top=False,\n",
    "    weights=None,\n",
    "    input_tensor=None,\n",
    "    input_shape=None,\n",
    "    pooling=None,\n",
    "    classes=102,\n",
    "    classifier_activation=\"softmax\")\n",
    "\n",
    "# Freeze the base model\n",
    "resnet.trainable = False\n",
    "\n",
    "x = resnet.output\n",
    "x = GlobalAveragePooling2D()(x)\n",
    "x = Dense(128,activation='relu')(x)\n",
    "x = Dropout(0.2)(x)\n",
    "predictions = Dense(102,kernel_regularizer=regularizers.l2(0.005), activation='softmax')(x)\n",
    "model = Model(inputs=resnet.input, outputs=predictions)"
   ]
  },
  {
   "cell_type": "code",
   "execution_count": null,
   "metadata": {
    "colab": {
     "base_uri": "https://localhost:8080/"
    },
    "executionInfo": {
     "elapsed": 3888726,
     "status": "ok",
     "timestamp": 1656325452704,
     "user": {
      "displayName": "Dimitrios Gagatsis",
      "userId": "10589784086292039670"
     },
     "user_tz": -120
    },
    "id": "0Dp9glLNHLtO",
    "outputId": "98dd9074-85fd-4eaa-de76-155f2aaad302"
   },
   "outputs": [],
   "source": [
    "# Train the model\n",
    "# K.clear_session()\n",
    "model.trainable = True\n",
    "model.compile(optimizer=SGD(lr=0.0001, momentum=0.9), loss='categorical_crossentropy', metrics=['accuracy'])\n",
    "checkpointer = ModelCheckpoint(filepath='ResNet152V2_food101.hdf5', verbose=1, save_best_only=True)\n",
    "csv_logger = CSVLogger('history_ResNet152V2.log')\n",
    "\n",
    "history = model.fit_generator(train_generator,\n",
    "                    steps_per_epoch = nb_train_samples // batch_size,\n",
    "                    validation_data=validation_generator,\n",
    "                    validation_steps=nb_validation_samples // batch_size,\n",
    "                    epochs=30,\n",
    "                    verbose=1,\n",
    "                    callbacks=[csv_logger, checkpointer])\n",
    "model.save('ResNet152V2_food101.hdf5')"
   ]
  },
  {
   "cell_type": "code",
   "execution_count": null,
   "metadata": {
    "colab": {
     "base_uri": "https://localhost:8080/"
    },
    "executionInfo": {
     "elapsed": 70905,
     "status": "ok",
     "timestamp": 1656328374775,
     "user": {
      "displayName": "Dimitrios Gagatsis",
      "userId": "10589784086292039670"
     },
     "user_tz": -120
    },
    "id": "KFeKe9odeGdB",
    "outputId": "fa7ce87d-b22b-4e92-f5b9-f0071cd1285b"
   },
   "outputs": [],
   "source": [
    "# # ResNet152V2 Evaluation\n",
    "# train_loss, train_acc = model.evaluate(train_generator)\n",
    "# validation_loss, test_acc = model.evaluate(validation_generator)\n",
    "# print('Train Acc: %.3f, Val Acc: %.3f' % (train_acc, test_acc))"
   ]
  },
  {
   "cell_type": "code",
   "execution_count": null,
   "metadata": {
    "colab": {
     "base_uri": "https://localhost:8080/"
    },
    "executionInfo": {
     "elapsed": 696,
     "status": "ok",
     "timestamp": 1656328150385,
     "user": {
      "displayName": "Dimitrios Gagatsis",
      "userId": "10589784086292039670"
     },
     "user_tz": -120
    },
    "id": "j3JAgrULNIjE",
    "outputId": "4172b69a-e852-4838-a9c5-18e905ac7774"
   },
   "outputs": [],
   "source": [
    "class_map_3 = train_generator.class_indices\n",
    "class_map_3"
   ]
  },
  {
   "cell_type": "code",
   "execution_count": null,
   "metadata": {
    "colab": {
     "base_uri": "https://localhost:8080/",
     "height": 513
    },
    "executionInfo": {
     "elapsed": 616,
     "status": "ok",
     "timestamp": 1656328164104,
     "user": {
      "displayName": "Dimitrios Gagatsis",
      "userId": "10589784086292039670"
     },
     "user_tz": -120
    },
    "id": "rikotGQuL0oa",
    "outputId": "83154cdc-4e5b-4856-92b5-6f8a6322b87b"
   },
   "outputs": [],
   "source": [
    "plot_Acc_and_Loss(history, 'FOOD101-ResNet152V2')"
   ]
  },
  {
   "cell_type": "markdown",
   "metadata": {
    "id": "phIo8-jMHPdk"
   },
   "source": [
    "### MODEL 2: Inceptionv3"
   ]
  },
  {
   "cell_type": "code",
   "execution_count": null,
   "metadata": {
    "_uuid": "8d08ece78ab731f7ac8a9b4b581e42e29093bcca",
    "colab": {
     "base_uri": "https://localhost:8080/"
    },
    "executionInfo": {
     "elapsed": 7338,
     "status": "ok",
     "timestamp": 1656155252076,
     "user": {
      "displayName": "Dimitrios Gagatsis",
      "userId": "10589784086292039670"
     },
     "user_tz": -120
    },
    "id": "JBs1U7hZkp1U",
    "outputId": "bc75117c-9c62-4171-ad84-b87a52f70412"
   },
   "outputs": [],
   "source": [
    "inception = InceptionV3(weights='imagenet', include_top=False)\n",
    "\n",
    "inception.trainable = False\n",
    "\n",
    "x = inception.output\n",
    "x = GlobalAveragePooling2D()(x)\n",
    "x = Dense(128,activation='relu')(x)\n",
    "x = Dropout(0.2)(x)\n",
    "\n",
    "predictions = Dense(3,kernel_regularizer=regularizers.l2(0.005), activation='softmax')(x)\n",
    "\n",
    "model = Model(inputs=inception.input, outputs=predictions)"
   ]
  },
  {
   "cell_type": "code",
   "execution_count": null,
   "metadata": {
    "colab": {
     "base_uri": "https://localhost:8080/"
    },
    "executionInfo": {
     "elapsed": 2168380,
     "status": "ok",
     "timestamp": 1656157423040,
     "user": {
      "displayName": "Dimitrios Gagatsis",
      "userId": "10589784086292039670"
     },
     "user_tz": -120
    },
    "id": "TdZfeMNBQqBs",
    "outputId": "fb11b111-a166-40ed-a4c9-6fab5acd824d"
   },
   "outputs": [],
   "source": [
    "model.trainable = True\n",
    "model.compile(optimizer=SGD(lr=0.0001, momentum=0.9), loss='categorical_crossentropy', metrics=['accuracy'])\n",
    "checkpointer = ModelCheckpoint(filepath='InceptionV3_food101.hdf5', verbose=1, save_best_only=True)\n",
    "csv_logger = CSVLogger('history_InceptionV3.log')\n",
    "\n",
    "history = model.fit_generator(train_generator,\n",
    "                    steps_per_epoch = nb_train_samples // batch_size,\n",
    "                    validation_data=validation_generator,\n",
    "                    validation_steps=nb_validation_samples // batch_size,\n",
    "                    epochs=30,\n",
    "                    verbose=1,\n",
    "                    callbacks=[csv_logger, checkpointer])\n",
    "\n",
    "model.save('InceptionV3_food101.hdf5')\n"
   ]
  },
  {
   "cell_type": "code",
   "execution_count": null,
   "metadata": {
    "_uuid": "558180f917fba895b9792328b234421c097f1ba0",
    "colab": {
     "base_uri": "https://localhost:8080/"
    },
    "executionInfo": {
     "elapsed": 352,
     "status": "ok",
     "timestamp": 1656157735793,
     "user": {
      "displayName": "Dimitrios Gagatsis",
      "userId": "10589784086292039670"
     },
     "user_tz": -120
    },
    "id": "VIKMZNCAyp3l",
    "outputId": "bacb88fb-2124-4e6d-d55a-46b35bb76b99"
   },
   "outputs": [],
   "source": [
    "class_map_3 = train_generator.class_indices\n",
    "class_map_3"
   ]
  },
  {
   "cell_type": "code",
   "execution_count": null,
   "metadata": {
    "_uuid": "a73c830d2fbd841c9541628061313e4fd8506a51",
    "colab": {
     "base_uri": "https://localhost:8080/"
    },
    "executionInfo": {
     "elapsed": 741,
     "status": "ok",
     "timestamp": 1656157754162,
     "user": {
      "displayName": "Dimitrios Gagatsis",
      "userId": "10589784086292039670"
     },
     "user_tz": -120
    },
    "id": "w-h17B_Zyp3m",
    "outputId": "bedc9eea-6f32-4627-8c3a-a73c4e649a65"
   },
   "outputs": [],
   "source": [
    "# plot_accuracy(history,'FOOD101-Inceptionv3')\n",
    "# plot_loss(history,'FOOD101-Inceptionv3')\n",
    "plot_Acc_and_Loss(history,'FOOD101-Inceptionv3')"
   ]
  },
  {
   "cell_type": "code",
   "execution_count": null,
   "metadata": {
    "id": "B42WWsEWCxxb"
   },
   "outputs": [],
   "source": [
    "# # Evaluate model\n",
    "# score = model.evaluate(train_generator, validation_generator, verbose=0)\n",
    "# print(f'Test loss: {score[0]} / Test accuracy: {score[1]}')"
   ]
  },
  {
   "cell_type": "markdown",
   "metadata": {
    "id": "EBwS-eRXS3EK"
   },
   "source": [
    "### MODEL 3: VGG16"
   ]
  },
  {
   "cell_type": "code",
   "execution_count": null,
   "metadata": {
    "colab": {
     "base_uri": "https://localhost:8080/"
    },
    "executionInfo": {
     "elapsed": 1198,
     "status": "ok",
     "timestamp": 1656158006755,
     "user": {
      "displayName": "Dimitrios Gagatsis",
      "userId": "10589784086292039670"
     },
     "user_tz": -120
    },
    "id": "CiJQzFeVfH7J",
    "outputId": "3dbe6fb2-8f06-41fb-fb95-fce69da058cf"
   },
   "outputs": [],
   "source": [
    "VGG = VGG16(weights='imagenet', include_top=False)\n",
    "VGG.trainable = False\n",
    "\n",
    "x = VGG.output\n",
    "x = GlobalAveragePooling2D()(x)\n",
    "x = Dense(128,activation='relu')(x)\n",
    "x = Dropout(0.2)(x)\n",
    "predictions = Dense(3,kernel_regularizer=regularizers.l2(0.005), activation='softmax')(x)\n",
    "model = Model(inputs=VGG.input, outputs=predictions)"
   ]
  },
  {
   "cell_type": "code",
   "execution_count": null,
   "metadata": {
    "colab": {
     "base_uri": "https://localhost:8080/"
    },
    "executionInfo": {
     "elapsed": 536842,
     "status": "ok",
     "timestamp": 1656160453564,
     "user": {
      "displayName": "Dimitrios Gagatsis",
      "userId": "10589784086292039670"
     },
     "user_tz": -120
    },
    "id": "UNVooDCefH0A",
    "outputId": "31e98e4d-6c6f-4b04-e745-f43a8ecfea07"
   },
   "outputs": [],
   "source": [
    "model.trainable = True\n",
    "model.compile(optimizer=SGD(lr=0.0001, momentum=0.9), loss='categorical_crossentropy', metrics=['accuracy'])\n",
    "checkpointer = ModelCheckpoint(filepath='vgg16_food101.hdf5', verbose=1, save_best_only=True)\n",
    "csv_logger = CSVLogger('history_vgg16.log')\n",
    "\n",
    "history = model.fit_generator(train_generator,\n",
    "                    steps_per_epoch = nb_train_samples // batch_size,\n",
    "                    validation_data=validation_generator,\n",
    "                    validation_steps=nb_validation_samples // batch_size,\n",
    "                    epochs=30,\n",
    "                    verbose=1,\n",
    "                    callbacks=[csv_logger, checkpointer])\n",
    "\n",
    "model.save('vgg16_food101.hdf5')"
   ]
  },
  {
   "cell_type": "code",
   "execution_count": null,
   "metadata": {
    "colab": {
     "base_uri": "https://localhost:8080/"
    },
    "executionInfo": {
     "elapsed": 338,
     "status": "ok",
     "timestamp": 1656160819779,
     "user": {
      "displayName": "Dimitrios Gagatsis",
      "userId": "10589784086292039670"
     },
     "user_tz": -120
    },
    "id": "f22-ouNHfHmX",
    "outputId": "8fdf39d0-18ee-46b8-f0b5-22b4c99588c5"
   },
   "outputs": [],
   "source": [
    "class_map_3 = train_generator.class_indices\n",
    "class_map_3"
   ]
  },
  {
   "cell_type": "code",
   "execution_count": null,
   "metadata": {
    "colab": {
     "base_uri": "https://localhost:8080/"
    },
    "executionInfo": {
     "elapsed": 1031,
     "status": "ok",
     "timestamp": 1656160843683,
     "user": {
      "displayName": "Dimitrios Gagatsis",
      "userId": "10589784086292039670"
     },
     "user_tz": -120
    },
    "id": "39HhKagzgFLT",
    "outputId": "5a4c309c-228b-4565-d4bf-cc3bdb9658d7"
   },
   "outputs": [],
   "source": [
    "# plot_accuracy(history,'FOOD101-VGG16')\n",
    "# plot_loss(history,'FOOD101-VGG16')\n",
    "plot_Acc_and_Loss(history, 'FOOD101-VGG16')"
   ]
  },
  {
   "cell_type": "code",
   "execution_count": null,
   "metadata": {
    "id": "DW_y5KavBKZ5"
   },
   "outputs": [],
   "source": [
    "# # Evaluate model\n",
    "# score = model.evaluate(train_generator, validation_generator, verbose=0)\n",
    "# print(f'Test loss: {score[0]} / Test accuracy: {score[1]}') "
   ]
  },
  {
   "cell_type": "markdown",
   "metadata": {
    "id": "D0piSCKpS_X_"
   },
   "source": [
    "### MODEL 4: Xception\n"
   ]
  },
  {
   "cell_type": "code",
   "execution_count": null,
   "metadata": {
    "id": "K9OLOEJ-lBu0"
   },
   "outputs": [],
   "source": [
    "xception = Xception(weights='imagenet', include_top=False)\n",
    "xception.trainable = False\n",
    "\n",
    "x = xception.output\n",
    "x = GlobalAveragePooling2D()(x)\n",
    "x = Dense(128,activation='relu')(x)\n",
    "x = Dropout(0.2)(x)\n",
    "\n",
    "predictions = Dense(3,kernel_regularizer=regularizers.l2(0.005), activation='softmax')(x)\n",
    "\n",
    "model = Model(inputs=xception.input, outputs=predictions)"
   ]
  },
  {
   "cell_type": "code",
   "execution_count": null,
   "metadata": {
    "colab": {
     "base_uri": "https://localhost:8080/"
    },
    "executionInfo": {
     "elapsed": 5846519,
     "status": "ok",
     "timestamp": 1656413078903,
     "user": {
      "displayName": "Dimitrios Gagatsis",
      "userId": "10589784086292039670"
     },
     "user_tz": -120
    },
    "id": "Lc_UrO1GlBsL",
    "outputId": "8607d531-3571-460f-8833-a8fb6487733c"
   },
   "outputs": [],
   "source": [
    "model.trainable = True\n",
    "model.compile(optimizer=SGD(lr=0.0001, momentum=0.9), loss='categorical_crossentropy', metrics=['accuracy'])\n",
    "checkpointer = ModelCheckpoint(filepath='xception_food101.hdf5', verbose=1, save_best_only=True)\n",
    "csv_logger = CSVLogger('history_xception.log')\n",
    "\n",
    "history = model.fit_generator(train_generator,\n",
    "                    steps_per_epoch = nb_train_samples // batch_size,\n",
    "                    validation_data=validation_generator,\n",
    "                    validation_steps=nb_validation_samples // batch_size,\n",
    "                    epochs=30,\n",
    "                    verbose=1,\n",
    "                    callbacks=[csv_logger, checkpointer])\n",
    "\n",
    "model.save('xception_food101.hdf5')"
   ]
  },
  {
   "cell_type": "code",
   "execution_count": null,
   "metadata": {
    "colab": {
     "base_uri": "https://localhost:8080/"
    },
    "executionInfo": {
     "elapsed": 184,
     "status": "ok",
     "timestamp": 1656413085886,
     "user": {
      "displayName": "Dimitrios Gagatsis",
      "userId": "10589784086292039670"
     },
     "user_tz": -120
    },
    "id": "_hyt-kbClBlB",
    "outputId": "265f85c2-cfe2-4765-a32e-3ae2fcff7b66"
   },
   "outputs": [],
   "source": [
    "class_map_3 = train_generator.class_indices\n",
    "class_map_3"
   ]
  },
  {
   "cell_type": "code",
   "execution_count": null,
   "metadata": {
    "colab": {
     "base_uri": "https://localhost:8080/",
     "height": 513
    },
    "executionInfo": {
     "elapsed": 509,
     "status": "ok",
     "timestamp": 1656413087597,
     "user": {
      "displayName": "Dimitrios Gagatsis",
      "userId": "10589784086292039670"
     },
     "user_tz": -120
    },
    "id": "erV2RX4vlBiu",
    "outputId": "e347a335-36f2-4a1d-ef70-62e6447fbcf7"
   },
   "outputs": [],
   "source": [
    "# plot_accuracy(history,'FOOD101-Xception')\n",
    "# plot_loss(history,'FOOD101-Xception')\n",
    "plot_Acc_and_Loss(history, 'FOOD101-Xception')"
   ]
  },
  {
   "cell_type": "code",
   "execution_count": null,
   "metadata": {
    "colab": {
     "base_uri": "https://localhost:8080/"
    },
    "executionInfo": {
     "elapsed": 59999,
     "status": "ok",
     "timestamp": 1656413165017,
     "user": {
      "displayName": "Dimitrios Gagatsis",
      "userId": "10589784086292039670"
     },
     "user_tz": -120
    },
    "id": "zXbQPvIKfj3O",
    "outputId": "255b68a6-8789-41dd-d94d-2248971b2984"
   },
   "outputs": [],
   "source": [
    "# model = load_model('xception_3class.hdf5')\n",
    "# train_loss, train_acc = model.evaluate(train_generator)\n",
    "# validation_loss, test_acc = model.evaluate(validation_generator)\n",
    "# print('Train Acc: %.3f, Val Acc: %.3f' % (train_acc, test_acc))"
   ]
  },
  {
   "cell_type": "markdown",
   "metadata": {
    "id": "1XCSfslOlmEU"
   },
   "source": [
    "### MODEL 5: EfficientNetV2L"
   ]
  },
  {
   "cell_type": "code",
   "execution_count": null,
   "metadata": {
    "colab": {
     "base_uri": "https://localhost:8080/"
    },
    "executionInfo": {
     "elapsed": 4106,
     "status": "ok",
     "timestamp": 1656312944323,
     "user": {
      "displayName": "Dimitrios Gagatsis",
      "userId": "10589784086292039670"
     },
     "user_tz": -120
    },
    "id": "SPiyM5vGlBgp",
    "outputId": "1a849ba5-4c91-4f1b-fbe4-24037cc56164"
   },
   "outputs": [],
   "source": [
    "EfficientNetV2S = EfficientNetV2S(weights='imagenet', include_top=False)\n",
    "EfficientNetV2S.trainable = False\n",
    "\n",
    "x = EfficientNetV2S.output\n",
    "x = GlobalAveragePooling2D()(x)\n",
    "x = Dense(128,activation='relu')(x)\n",
    "x = Dropout(0.2)(x)\n",
    "\n",
    "predictions = Dense(3,kernel_regularizer=regularizers.l2(0.005), activation='softmax')(x)\n",
    "\n",
    "model = Model(inputs=EfficientNetV2S.input, outputs=predictions)"
   ]
  },
  {
   "cell_type": "code",
   "execution_count": null,
   "metadata": {
    "colab": {
     "base_uri": "https://localhost:8080/"
    },
    "executionInfo": {
     "elapsed": 2518253,
     "status": "ok",
     "timestamp": 1656315462792,
     "user": {
      "displayName": "Dimitrios Gagatsis",
      "userId": "10589784086292039670"
     },
     "user_tz": -120
    },
    "id": "P2MrNDYulBdp",
    "outputId": "c8e37eb7-b5ba-4eba-c1d3-8644e740b9a8"
   },
   "outputs": [],
   "source": [
    "model.trainable = True\n",
    "model.compile(optimizer=SGD(lr=0.0001, momentum=0.9), loss='categorical_crossentropy', metrics=['accuracy'])\n",
    "checkpointer = ModelCheckpoint(filepath='EfficientNetV2S_food101.hdf5', verbose=1, save_best_only=True)\n",
    "csv_logger = CSVLogger('history_EfficientNetV2S.log')\n",
    "\n",
    "history = model.fit_generator(train_generator,\n",
    "                    steps_per_epoch = nb_train_samples // batch_size,\n",
    "                    validation_data=validation_generator,\n",
    "                    validation_steps=nb_validation_samples // batch_size,\n",
    "                    epochs=30,\n",
    "                    verbose=1,\n",
    "                    callbacks=[csv_logger, checkpointer])\n",
    "\n",
    "model.save('EfficientNetV2S_food101.hdf5')\n"
   ]
  },
  {
   "cell_type": "code",
   "execution_count": null,
   "metadata": {
    "colab": {
     "base_uri": "https://localhost:8080/"
    },
    "executionInfo": {
     "elapsed": 212,
     "status": "ok",
     "timestamp": 1656315465578,
     "user": {
      "displayName": "Dimitrios Gagatsis",
      "userId": "10589784086292039670"
     },
     "user_tz": -120
    },
    "id": "D_QzCp_VlBaf",
    "outputId": "cdde1f51-3d22-41cc-a605-8eb7848c553e"
   },
   "outputs": [],
   "source": [
    "class_map_3 = train_generator.class_indices\n",
    "class_map_3"
   ]
  },
  {
   "cell_type": "code",
   "execution_count": null,
   "metadata": {
    "colab": {
     "base_uri": "https://localhost:8080/",
     "height": 513
    },
    "executionInfo": {
     "elapsed": 787,
     "status": "ok",
     "timestamp": 1656315486818,
     "user": {
      "displayName": "Dimitrios Gagatsis",
      "userId": "10589784086292039670"
     },
     "user_tz": -120
    },
    "id": "_GNfyxjRlBRr",
    "outputId": "823ced76-d423-4dd7-d98b-6c531d87a98c"
   },
   "outputs": [],
   "source": [
    "# plot_accuracy(history,'FOOD101-EfficientNetV2S')\n",
    "# plot_loss(history,'FOOD101-EfficientNetV2S')\n",
    "plot_Acc_and_Loss(history,'FOOD101-EfficientNetV2S')"
   ]
  }
 ],
 "metadata": {
  "accelerator": "GPU",
  "colab": {
   "collapsed_sections": [
    "3uBYnTC8I4mw",
    "s4DUFALj95De",
    "phIo8-jMHPdk",
    "EBwS-eRXS3EK",
    "1XCSfslOlmEU"
   ],
   "name": "Food101_TestModels.ipynb",
   "provenance": [],
   "toc_visible": true
  },
  "gpuClass": "standard",
  "interpreter": {
   "hash": "4aeb64ef282ff8a6f7d42bedeb202650f316771a6020b95f8caf456856a04c73"
  },
  "kernelspec": {
   "display_name": "denv",
   "language": "python",
   "name": "denv"
  },
  "language_info": {
   "codemirror_mode": {
    "name": "ipython",
    "version": 3
   },
   "file_extension": ".py",
   "mimetype": "text/x-python",
   "name": "python",
   "nbconvert_exporter": "python",
   "pygments_lexer": "ipython3",
   "version": "3.9.10"
  }
 },
 "nbformat": 4,
 "nbformat_minor": 4
}
